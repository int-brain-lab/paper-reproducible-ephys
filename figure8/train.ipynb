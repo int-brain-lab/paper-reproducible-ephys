{
 "cells": [
  {
   "cell_type": "code",
   "execution_count": null,
   "metadata": {},
   "outputs": [],
   "source": [
    "from get_features import *\n",
    "from model import *"
   ]
  },
  {
   "cell_type": "code",
   "execution_count": null,
   "metadata": {},
   "outputs": [],
   "source": [
    "feature = np.load('../truncated_feature_normalized.npy')\n",
    "target = np.load('../truncated_output.npy')\n",
    "seqlen = np.load('../seqlen.npy')"
   ]
  },
  {
   "cell_type": "code",
   "execution_count": null,
   "metadata": {},
   "outputs": [],
   "source": [
    "feature.shape"
   ]
  },
  {
   "cell_type": "code",
   "execution_count": null,
   "metadata": {},
   "outputs": [],
   "source": [
    "clusters = np.unique(feature[:,:,:,:,0])\n",
    "n_clusters = clusters.shape[0]"
   ]
  },
  {
   "cell_type": "code",
   "execution_count": null,
   "metadata": {},
   "outputs": [],
   "source": [
    "HIDDEN_SIZE = 128"
   ]
  },
  {
   "cell_type": "code",
   "execution_count": null,
   "metadata": {},
   "outputs": [],
   "source": [
    "INPUT_SIZE = feature.shape[-1]-1"
   ]
  },
  {
   "cell_type": "code",
   "execution_count": null,
   "metadata": {},
   "outputs": [],
   "source": [
    "train_idx = np.random.choice(np.arange(250), replace=False, size=150)\n",
    "train_bool = np.zeros(250).astype(bool)\n",
    "train_bool[train_idx] = True\n",
    "\n",
    "val_idx = np.random.choice(np.arange(250)[~train_bool], replace=False, size=50)\n",
    "val_bool = np.zeros(250).astype(bool)\n",
    "val_bool[val_idx] = True\n",
    "\n",
    "test_bool = ~np.logical_or(train_bool, val_bool)"
   ]
  },
  {
   "cell_type": "code",
   "execution_count": null,
   "metadata": {},
   "outputs": [],
   "source": [
    "# # save indices for reproducibility\n",
    "# np.save('train_bool_newnewnew.npy', train_bool)\n",
    "# np.save('val_bool_newnewnew.npy', val_bool)\n",
    "# np.save('test_bool_newnewnew.npy', test_bool)"
   ]
  },
  {
   "cell_type": "code",
   "execution_count": null,
   "metadata": {},
   "outputs": [],
   "source": [
    "train = feature[:,:,train_bool].reshape((-1,feature.shape[-2],feature.shape[-1]))\n",
    "train = torch.from_numpy(train).cuda().float()\n",
    "print(train.shape)\n",
    "val = feature[:,:,val_bool].reshape((-1,feature.shape[-2],feature.shape[-1]))\n",
    "val = torch.from_numpy(val).cuda().float()\n",
    "print(val.shape)\n",
    "test = feature[:,:,test_bool].reshape((-1,feature.shape[-2],feature.shape[-1]))\n",
    "test = torch.from_numpy(test).cuda().float()\n",
    "print(test.shape)"
   ]
  },
  {
   "cell_type": "code",
   "execution_count": null,
   "metadata": {},
   "outputs": [],
   "source": [
    "train_target = target[:,:,train_bool].reshape((-1,feature.shape[-2]))\n",
    "train_target = torch.from_numpy(train_target).cuda().float()\n",
    "print(train_target.shape)\n",
    "val_target = target[:,:,val_bool].reshape((-1,feature.shape[-2]))\n",
    "val_target = torch.from_numpy(val_target).cuda().float()\n",
    "print(val_target.shape)\n",
    "test_target = target[:,:,test_bool].reshape((-1,feature.shape[-2]))\n",
    "test_target = torch.from_numpy(test_target).cuda().float()\n",
    "print(test_target.shape)"
   ]
  },
  {
   "cell_type": "code",
   "execution_count": null,
   "metadata": {},
   "outputs": [],
   "source": [
    "train_seq_len = np.tile(seqlen[:,None], (1,feature.shape[1],1))[:,:,train_bool].reshape(-1)\n",
    "print(train_seq_len.shape)\n",
    "val_seq_len = np.tile(seqlen[:,None], (1,feature.shape[1],1))[:,:,val_bool].reshape(-1)\n",
    "print(val_seq_len.shape)\n",
    "test_seq_len = np.tile(seqlen[:,None], (1,feature.shape[1],1))[:,:,test_bool].reshape(-1)\n",
    "print(test_seq_len.shape)"
   ]
  },
  {
   "cell_type": "code",
   "execution_count": null,
   "metadata": {},
   "outputs": [],
   "source": [
    "model = define_model(n_clusters=n_clusters, input_size=INPUT_SIZE, output_size=1, hidden_dim=HIDDEN_SIZE, n_layers=3, total_length = feature.shape[-2])"
   ]
  },
  {
   "cell_type": "code",
   "execution_count": null,
   "metadata": {},
   "outputs": [],
   "source": [
    "lr=0.01"
   ]
  },
  {
   "cell_type": "code",
   "execution_count": null,
   "metadata": {},
   "outputs": [],
   "source": [
    "best_epoch = do_train(model, train, train_seq_len, train_target, val, val_seq_len, val_target, lr=lr)"
   ]
  },
  {
   "cell_type": "code",
   "execution_count": null,
   "metadata": {},
   "outputs": [],
   "source": [
    "model.load_state_dict(torch.load('./state_dict_epoch={}_lr={}.pt'.format(16, lr)))\n",
    "model.eval()"
   ]
  },
  {
   "cell_type": "code",
   "execution_count": null,
   "metadata": {},
   "outputs": [],
   "source": [
    "covariates = ['lab','xyz','reward', 'wheel', 'contrast', 'lick','max_ptp', 'wf_width']"
   ]
  },
  {
   "cell_type": "code",
   "execution_count": null,
   "metadata": {},
   "outputs": [],
   "source": [
    "effect_sizes = dict()\n",
    "n_samples = 500\n",
    "test_feature = test.reshape(feature[:,:,test_bool].shape)\n",
    "for i in range(feature.shape[0]):\n",
    "    for j in notebook.tqdm(range(feature.shape[1])):\n",
    "        effect_size = get_effect_sizes(model, test_feature, test_seq_len, covariates, i, j, n_samples)\n",
    "        effect_sizes[(i,j)] = effect_size"
   ]
  },
  {
   "cell_type": "code",
   "execution_count": null,
   "metadata": {},
   "outputs": [],
   "source": []
  },
  {
   "cell_type": "code",
   "execution_count": null,
   "metadata": {},
   "outputs": [],
   "source": []
  },
  {
   "cell_type": "code",
   "execution_count": null,
   "metadata": {},
   "outputs": [],
   "source": []
  },
  {
   "cell_type": "code",
   "execution_count": null,
   "metadata": {},
   "outputs": [],
   "source": []
  }
 ],
 "metadata": {
  "kernelspec": {
   "display_name": "yass",
   "language": "python",
   "name": "yass"
  },
  "language_info": {
   "codemirror_mode": {
    "name": "ipython",
    "version": 3
   },
   "file_extension": ".py",
   "mimetype": "text/x-python",
   "name": "python",
   "nbconvert_exporter": "python",
   "pygments_lexer": "ipython3",
   "version": "3.7.9"
  }
 },
 "nbformat": 4,
 "nbformat_minor": 4
}
