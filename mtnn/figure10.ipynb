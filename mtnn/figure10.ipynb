{
 "cells": [
  {
   "cell_type": "code",
   "execution_count": null,
   "metadata": {},
   "outputs": [],
   "source": [
    "from utils import *\n",
    "from mtnn import *\n",
    "from figure9 import *\n",
    "import torch\n",
    "import matplotlib.pyplot as plt\n",
    "import numpy as np\n",
    "from reproducible_ephys_functions import save_data_path\n",
    "\n",
    "data_load_path = save_data_path(figure='figure8').joinpath('mtnn_data')"
   ]
  },
  {
   "cell_type": "code",
   "execution_count": null,
   "metadata": {},
   "outputs": [],
   "source": [
    "feature = np.load(data_load_path.joinpath('train/feature.npy'))\n",
    "\n",
    "neuron_order = feature[:,0,0]\n",
    "feature = feature[:,:,1:]\n",
    "\n",
    "neurons = np.unique(neuron_order)\n",
    "n_neurons = neurons.shape[0]\n",
    "print('number of neurons: {}'.format(n_neurons))\n",
    "\n",
    "INPUT_SIZE_DYNAMIC = feature.shape[-1]-static_idx.shape[0]\n",
    "INPUT_SIZE_STATIC = static_idx.shape[0]\n",
    "print(INPUT_SIZE_STATIC, INPUT_SIZE_DYNAMIC)\n",
    "\n",
    "HIDDEN_SIZE_STATIC = 64\n",
    "HIDDEN_SIZE_DYNAMIC = 64\n",
    "n_layers = 2"
   ]
  },
  {
   "cell_type": "code",
   "execution_count": null,
   "metadata": {
    "scrolled": false
   },
   "outputs": [],
   "source": [
    "# train leave-one-out\n",
    "for i, key in notebook.tqdm(enumerate(cov_idx_dict.keys())):\n",
    "    print(f'processing {key}')\n",
    "\n",
    "    remove_cov = [key]\n",
    "    only_keep_cov = None\n",
    "    \n",
    "    model = initialize_mtnn(n_neurons=n_neurons, \n",
    "                            input_size_static=INPUT_SIZE_STATIC, \n",
    "                            input_size_dynamic=INPUT_SIZE_DYNAMIC,\n",
    "                            static_bias=True, dynamic_bias=True, \n",
    "                            hidden_dim_static=HIDDEN_SIZE_STATIC, \n",
    "                            hidden_dim_dynamic=HIDDEN_SIZE_DYNAMIC, n_layers=n_layers, \n",
    "                            dropout=0.2)\n",
    "\n",
    "    best_epoch, loss_list, val_loss_list = run_train(model, \n",
    "                                                     data_load_path.joinpath('train/feature.npy'), \n",
    "                                                     data_load_path.joinpath('train/output.npy'), \n",
    "                                                     data_load_path.joinpath('validation/feature.npy'), \n",
    "                                                     data_load_path.joinpath('validation/output.npy'),\n",
    "                                                     batch_size=512, n_epochs=100, lr=0.1,\n",
    "                                                     weight_decay=1e-5,\n",
    "                                                     remove_cov=remove_cov, \n",
    "                                                     only_keep_cov=only_keep_cov)"
   ]
  },
  {
   "cell_type": "code",
   "execution_count": null,
   "metadata": {},
   "outputs": [],
   "source": [
    "# train dynamic single-covariate\n",
    "for i, key in notebook.tqdm(enumerate(cov_idx_dict.keys())):\n",
    "    \n",
    "    if key not in ['paw speed', 'nose speed', 'pupil diameter', 'motion energy',\n",
    "                   'stimuli', 'go cue', 'first movement', 'choice', 'reward',\n",
    "                   'wheel velocity', 'lick', 'noise']:\n",
    "        continue\n",
    "    \n",
    "    print(f'processing {key}')\n",
    "\n",
    "    remove_cov = None\n",
    "    only_keep_cov = key\n",
    "    \n",
    "    model = initialize_mtnn(n_neurons=n_neurons, \n",
    "                            input_size_static=INPUT_SIZE_STATIC, \n",
    "                            input_size_dynamic=INPUT_SIZE_DYNAMIC,\n",
    "                            static_bias=False, dynamic_bias=True, \n",
    "                            hidden_dim_static=HIDDEN_SIZE_STATIC, \n",
    "                            hidden_dim_dynamic=HIDDEN_SIZE_DYNAMIC, n_layers=n_layers, \n",
    "                            dropout=0.2)\n",
    "\n",
    "    best_epoch, loss_list, val_loss_list = run_train(model, \n",
    "                                                     data_load_path.joinpath('train/feature.npy'), \n",
    "                                                     data_load_path.joinpath('train/output.npy'), \n",
    "                                                     data_load_path.joinpath('validation/feature.npy'), \n",
    "                                                     data_load_path.joinpath('validation/output.npy'),\n",
    "                                                     batch_size=512, n_epochs=100, lr=0.1,\n",
    "                                                     weight_decay=1e-5,\n",
    "                                                     remove_cov=remove_cov, \n",
    "                                                     only_keep_cov=only_keep_cov)"
   ]
  },
  {
   "cell_type": "code",
   "execution_count": null,
   "metadata": {},
   "outputs": [],
   "source": [
    "# train static single-covariate\n",
    "for i, key in notebook.tqdm(enumerate(cov_idx_dict.keys())):\n",
    "    \n",
    "    if key in ['paw speed', 'nose speed', 'pupil diameter', 'motion energy',\n",
    "               'stimuli', 'go cue', 'first movement', 'choice', 'reward',\n",
    "               'wheel velocity', 'lick', 'noise', 'all']:\n",
    "        continue\n",
    "    \n",
    "    print(f'processing {key}')\n",
    "\n",
    "    remove_cov = None\n",
    "    only_keep_cov = key\n",
    "    \n",
    "    model = initialize_mtnn(n_neurons=n_neurons, \n",
    "                            input_size_static=INPUT_SIZE_STATIC, \n",
    "                            input_size_dynamic=INPUT_SIZE_DYNAMIC,\n",
    "                            static_bias=True, dynamic_bias=False, \n",
    "                            hidden_dim_static=HIDDEN_SIZE_STATIC, \n",
    "                            hidden_dim_dynamic=HIDDEN_SIZE_DYNAMIC, n_layers=n_layers, \n",
    "                            dropout=0.2)\n",
    "\n",
    "    best_epoch, loss_list, val_loss_list = run_train(model, \n",
    "                                                     data_load_path.joinpath('train/feature.npy'), \n",
    "                                                     data_load_path.joinpath('train/output.npy'), \n",
    "                                                     data_load_path.joinpath('validation/feature.npy'), \n",
    "                                                     data_load_path.joinpath('validation/output.npy'),\n",
    "                                                     batch_size=512, n_epochs=100, lr=0.1,\n",
    "                                                     weight_decay=1e-5,\n",
    "                                                     remove_cov=remove_cov, \n",
    "                                                     only_keep_cov=only_keep_cov)"
   ]
  },
  {
   "cell_type": "code",
   "execution_count": null,
   "metadata": {},
   "outputs": [],
   "source": [
    "# train leave-group-out\n",
    "for i, key in notebook.tqdm(enumerate(grouped_cov_idx_dict.keys())):\n",
    "    print(f'processing {key}')\n",
    "\n",
    "    remove_cov = grouped_cov_idx_dict[key]\n",
    "    only_keep_cov = None\n",
    "    \n",
    "    model = initialize_mtnn(n_neurons=n_neurons, \n",
    "                            input_size_static=INPUT_SIZE_STATIC, \n",
    "                            input_size_dynamic=INPUT_SIZE_DYNAMIC,\n",
    "                            static_bias=True, dynamic_bias=True, \n",
    "                            hidden_dim_static=HIDDEN_SIZE_STATIC, \n",
    "                            hidden_dim_dynamic=HIDDEN_SIZE_DYNAMIC, n_layers=n_layers, \n",
    "                            dropout=0.2)\n",
    "\n",
    "    best_epoch, loss_list, val_loss_list = run_train(model, \n",
    "                                                     data_load_path.joinpath('train/feature.npy'), \n",
    "                                                     data_load_path.joinpath('train/output.npy'), \n",
    "                                                     data_load_path.joinpath('validation/feature.npy'), \n",
    "                                                     data_load_path.joinpath('validation/output.npy'),\n",
    "                                                     batch_size=512, n_epochs=100, lr=0.1,\n",
    "                                                     weight_decay=1e-5,\n",
    "                                                     remove_cov=remove_cov, \n",
    "                                                     only_keep_cov=only_keep_cov)"
   ]
  },
  {
   "cell_type": "code",
   "execution_count": null,
   "metadata": {},
   "outputs": [],
   "source": []
  },
  {
   "cell_type": "code",
   "execution_count": null,
   "metadata": {},
   "outputs": [],
   "source": [
    "model_config = {'n_neurons': n_neurons,\n",
    "                'input_size_static': INPUT_SIZE_STATIC,\n",
    "                'input_size_dynamic': INPUT_SIZE_DYNAMIC,\n",
    "                'hidden_size_static': HIDDEN_SIZE_STATIC,\n",
    "                'hidden_size_dynamic': HIDDEN_SIZE_DYNAMIC,\n",
    "                'static_bias': True,\n",
    "                'dynamic_bias': True,\n",
    "                'n_layers': n_layers}"
   ]
  },
  {
   "cell_type": "code",
   "execution_count": null,
   "metadata": {},
   "outputs": [],
   "source": [
    "leave_one_out_covs = ['lab','session', 'x', 'y', 'z', \n",
    "                      'waveform amplitude', 'waveform width', \n",
    "                      'paw speed', 'nose speed', 'pupil diameter', 'motion energy', \n",
    "                      'stimuli','go cue','first movement','choice',\n",
    "                      'reward','wheel velocity', 'mouse prior', 'last mouse prior',\n",
    "                      'lick','decision strategy (GLM-HMM)','brain region','noise']\n",
    "leave_group_out=[grouped_cov_idx_dict['ephys'], grouped_cov_idx_dict['task'], \n",
    "                      grouped_cov_idx_dict['behavioral']]\n",
    "single_covs = ['paw speed', 'nose speed', 'pupil diameter', \n",
    "               'motion energy', 'stimuli', 'go cue', 'first movement',\n",
    "               'choice', 'reward', 'wheel velocity', 'lick', 'noise',\n",
    "               'mouse prior', 'last mouse prior', 'decision strategy (GLM-HMM)']"
   ]
  },
  {
   "cell_type": "code",
   "execution_count": null,
   "metadata": {},
   "outputs": [],
   "source": [
    "generate_figure_10(model_config, leave_one_out_covs, single_covs, leave_group_out, savefig=True)"
   ]
  },
  {
   "cell_type": "code",
   "execution_count": null,
   "metadata": {},
   "outputs": [],
   "source": []
  },
  {
   "cell_type": "code",
   "execution_count": null,
   "metadata": {},
   "outputs": [],
   "source": [
    "sim_model_config = {'n_neurons': n_neurons,\n",
    "                    'input_size_static': 2,\n",
    "                    'input_size_dynamic': 6,\n",
    "                    'hidden_size_static': HIDDEN_SIZE_STATIC,\n",
    "                    'hidden_size_dynamic': HIDDEN_SIZE_DYNAMIC,\n",
    "                    'static_bias': True,\n",
    "                    'dynamic_bias': True,\n",
    "                    'n_layers': n_layers}\n",
    "\n",
    "sim_load_path = save_data_path(figure='figure10').joinpath('simulated_data')\n",
    "glm_scores = np.load(sim_load_path.joinpath('glm_scores.npy'), allow_pickle=True)\n",
    "glm_leave_one_out = np.load(sim_load_path.joinpath('glm_leave_one_out.npy'), allow_pickle=True)\n",
    "\n",
    "generate_figure_10_supplement1(model_config,\n",
    "                               glm_scores,\n",
    "                               glm_leave_one_out,\n",
    "                               savefig=True)"
   ]
  },
  {
   "cell_type": "code",
   "execution_count": null,
   "metadata": {},
   "outputs": [],
   "source": []
  },
  {
   "cell_type": "code",
   "execution_count": null,
   "metadata": {},
   "outputs": [],
   "source": [
    "single_covs_supplement2 = ['paw speed', 'nose speed', 'pupil diameter', \n",
    "                           'motion energy', 'stimuli', 'go cue', 'first movement',\n",
    "                           'choice', 'reward', 'wheel velocity', 'lick']\n",
    "generate_figure_10_supplement2(model_config, single_covs_supplement2, savefig=True)"
   ]
  }
 ],
 "metadata": {
  "kernelspec": {
   "display_name": "iblenv-updated",
   "language": "python",
   "name": "iblenv-updated"
  },
  "language_info": {
   "codemirror_mode": {
    "name": "ipython",
    "version": 3
   },
   "file_extension": ".py",
   "mimetype": "text/x-python",
   "name": "python",
   "nbconvert_exporter": "python",
   "pygments_lexer": "ipython3",
   "version": "3.9.7"
  }
 },
 "nbformat": 4,
 "nbformat_minor": 4
}
