{
 "cells": [
  {
   "cell_type": "code",
   "execution_count": 1,
   "metadata": {},
   "outputs": [],
   "source": [
    "%load_ext autoreload\n",
    "%autoreload 2\n",
    "\n",
    "from utils import *\n",
    "from mtnn import *\n",
    "from figure9 import *\n",
    "import torch\n",
    "import matplotlib.pyplot as plt"
   ]
  },
  {
   "cell_type": "code",
   "execution_count": 2,
   "metadata": {},
   "outputs": [],
   "source": [
    "feature = np.load('mtnn_data/train/feature.npy')\n",
    "output = np.load('mtnn_data/train/output.npy')"
   ]
  },
  {
   "cell_type": "code",
   "execution_count": 3,
   "metadata": {},
   "outputs": [
    {
     "data": {
      "text/plain": [
       "(58242, 30, 41)"
      ]
     },
     "execution_count": 3,
     "metadata": {},
     "output_type": "execute_result"
    }
   ],
   "source": [
    "feature.shape"
   ]
  },
  {
   "cell_type": "code",
   "execution_count": 4,
   "metadata": {},
   "outputs": [],
   "source": [
    "neuron_order = feature[:,0,0]\n",
    "feature = feature[:,:,1:]"
   ]
  },
  {
   "cell_type": "code",
   "execution_count": 5,
   "metadata": {},
   "outputs": [
    {
     "name": "stdout",
     "output_type": "stream",
     "text": [
      "number of neurons: 252\n"
     ]
    }
   ],
   "source": [
    "neurons = np.unique(neuron_order)\n",
    "n_neurons = neurons.shape[0]\n",
    "print('number of neurons: {}'.format(n_neurons))"
   ]
  },
  {
   "cell_type": "code",
   "execution_count": 6,
   "metadata": {},
   "outputs": [
    {
     "name": "stdout",
     "output_type": "stream",
     "text": [
      "25 15\n"
     ]
    }
   ],
   "source": [
    "INPUT_SIZE_DYNAMIC = feature.shape[-1]-static_idx.shape[0]\n",
    "INPUT_SIZE_STATIC = static_idx.shape[0]\n",
    "print(INPUT_SIZE_STATIC, INPUT_SIZE_DYNAMIC)"
   ]
  },
  {
   "cell_type": "code",
   "execution_count": 7,
   "metadata": {},
   "outputs": [],
   "source": [
    "# HIDDEN_SIZE_STATIC = 16\n",
    "# HIDDEN_SIZE_DYNAMIC = 16\n",
    "# n_layers = 1\n",
    "\n",
    "# HIDDEN_SIZE_STATIC = 16\n",
    "# HIDDEN_SIZE_DYNAMIC = 12\n",
    "# n_layers = 2\n",
    "\n",
    "# HIDDEN_SIZE_STATIC = 16\n",
    "# HIDDEN_SIZE_DYNAMIC = 16\n",
    "# n_layers = 2\n",
    "\n",
    "# HIDDEN_SIZE_STATIC = 12\n",
    "# HIDDEN_SIZE_DYNAMIC = 8\n",
    "# n_layers = 2\n",
    "\n",
    "# HIDDEN_SIZE_STATIC = 16\n",
    "# HIDDEN_SIZE_DYNAMIC = 12\n",
    "# n_layers = 1\n",
    "\n",
    "###################################\n",
    "# HIDDEN_SIZE_STATIC = 16\n",
    "# HIDDEN_SIZE_DYNAMIC = 16\n",
    "# n_layers = 2\n",
    "###################################\n",
    "\n",
    "# HIDDEN_SIZE_STATIC = 32\n",
    "# HIDDEN_SIZE_DYNAMIC = 32\n",
    "# n_layers = 2\n",
    "\n",
    "HIDDEN_SIZE_STATIC = 64\n",
    "HIDDEN_SIZE_DYNAMIC = 64\n",
    "n_layers = 2"
   ]
  },
  {
   "cell_type": "code",
   "execution_count": null,
   "metadata": {
    "scrolled": true
   },
   "outputs": [],
   "source": [
    "for i, key in notebook.tqdm(enumerate(cov_idx_dict.keys())):\n",
    "    if key not in ['choice', 'reward', 'wheel velocity', 'lick']:\n",
    "        continue\n",
    "        \n",
    "    print(f'processing {key}')\n",
    "\n",
    "    # prev: hidden_size = 16, n_layers=2, batch_size=256, random_sliding=1~2*max\n",
    "    model = initialize_mtnn(n_neurons=n_neurons, \n",
    "                            input_size_static=INPUT_SIZE_STATIC, \n",
    "                            input_size_dynamic=INPUT_SIZE_DYNAMIC,\n",
    "                            static_bias=False, dynamic_bias=True, \n",
    "                            hidden_dim_static=HIDDEN_SIZE_STATIC, \n",
    "                            hidden_dim_dynamic=HIDDEN_SIZE_DYNAMIC, n_layers=n_layers, dropout=0.5)\n",
    "    remove_cov = None\n",
    "    only_keep_cov = key\n",
    "    # -17.1\n",
    "    best_epoch, loss_list, val_loss_list = run_train(model, \n",
    "                                                     'mtnn_data/train/feature.npy', \n",
    "                                                     'mtnn_data/train/output.npy', \n",
    "                                                     'mtnn_data/validation/feature.npy', \n",
    "                                                     'mtnn_data/validation/output.npy',\n",
    "                                                     batch_size=256, n_epochs=100, lr=0.03,\n",
    "                                                     weight_decay=1e-4, bias_weight_decay=1e-4, #TRY HIGHER PENALTY\n",
    "                                                     remove_cov=remove_cov, \n",
    "                                                     only_keep_cov=only_keep_cov)"
   ]
  },
  {
   "cell_type": "code",
   "execution_count": null,
   "metadata": {
    "scrolled": true
   },
   "outputs": [],
   "source": [
    "for i, key in notebook.tqdm(enumerate(cov_idx_dict.keys())):\n",
    "    if key not in ['mouse prior', 'last mouse prior', 'decision strategy (GLM-HMM)']:\n",
    "        continue\n",
    "        \n",
    "    print(f'processing {key}')\n",
    "\n",
    "    # prev: hidden_size = 16, n_layers=2, batch_size=256, random_sliding=1~2*max\n",
    "    model = initialize_mtnn(n_neurons=n_neurons, \n",
    "                            input_size_static=INPUT_SIZE_STATIC, \n",
    "                            input_size_dynamic=INPUT_SIZE_DYNAMIC,\n",
    "                            static_bias=True, dynamic_bias=False, \n",
    "                            hidden_dim_static=HIDDEN_SIZE_STATIC, \n",
    "                            hidden_dim_dynamic=HIDDEN_SIZE_DYNAMIC, n_layers=n_layers, dropout=0.5)\n",
    "    remove_cov = None\n",
    "    only_keep_cov = key\n",
    "    # -17.1\n",
    "    best_epoch, loss_list, val_loss_list = run_train(model, \n",
    "                                                     'mtnn_data/train/feature.npy', \n",
    "                                                     'mtnn_data/train/output.npy', \n",
    "                                                     'mtnn_data/validation/feature.npy', \n",
    "                                                     'mtnn_data/validation/output.npy',\n",
    "                                                     batch_size=256, n_epochs=100, lr=0.03,\n",
    "                                                     weight_decay=1e-4, bias_weight_decay=1e-4, #TRY HIGHER PENALTY\n",
    "                                                     remove_cov=remove_cov, \n",
    "                                                     only_keep_cov=only_keep_cov)"
   ]
  },
  {
   "cell_type": "code",
   "execution_count": null,
   "metadata": {},
   "outputs": [],
   "source": []
  },
  {
   "cell_type": "code",
   "execution_count": null,
   "metadata": {},
   "outputs": [],
   "source": []
  },
  {
   "cell_type": "code",
   "execution_count": null,
   "metadata": {},
   "outputs": [],
   "source": []
  },
  {
   "cell_type": "code",
   "execution_count": null,
   "metadata": {},
   "outputs": [],
   "source": [
    "# # prev: hidden_size = 16, n_layers=2, batch_size=256, random_sliding=1~2*max\n",
    "# model = initialize_mtnn(n_neurons=n_neurons, \n",
    "#                         input_size_static=INPUT_SIZE_STATIC, \n",
    "#                         input_size_dynamic=INPUT_SIZE_DYNAMIC,\n",
    "#                         static_bias=False, dynamic_bias=True, \n",
    "#                         hidden_dim_static=HIDDEN_SIZE_STATIC, \n",
    "#                         hidden_dim_dynamic=HIDDEN_SIZE_DYNAMIC, n_layers=n_layers, dropout=0.1)\n",
    "# remove_cov = None\n",
    "# only_keep_cov = None\n",
    "# best_epoch, loss_list, val_loss_list = run_train(model, \n",
    "#                                                  'mtnn_data/train/feature.npy', \n",
    "#                                                  'mtnn_data/train/output.npy', \n",
    "#                                                  'mtnn_data/validation/feature.npy', \n",
    "#                                                  'mtnn_data/validation/output.npy',\n",
    "#                                                  batch_size=512, n_epochs=100, lr=0.01,\n",
    "#                                                  weight_decay=5e-4, bias_weight_decay=3e0, #TRY HIGHER PENALTY\n",
    "#                                                  remove_cov=remove_cov, \n",
    "#                                                  only_keep_cov=only_keep_cov)"
   ]
  },
  {
   "cell_type": "code",
   "execution_count": null,
   "metadata": {
    "scrolled": true
   },
   "outputs": [],
   "source": [
    "# prev: hidden_size = 16, n_layers=2, batch_size=256, random_sliding=1~2*max\n",
    "model = initialize_mtnn(n_neurons=n_neurons, \n",
    "                        input_size_static=INPUT_SIZE_STATIC, \n",
    "                        input_size_dynamic=INPUT_SIZE_DYNAMIC,\n",
    "                        static_bias=False, dynamic_bias=True, \n",
    "                        hidden_dim_static=HIDDEN_SIZE_STATIC, \n",
    "                        hidden_dim_dynamic=HIDDEN_SIZE_DYNAMIC, n_layers=n_layers, dropout=0.5)\n",
    "remove_cov = None\n",
    "only_keep_cov = 'noise'\n",
    "# -15.23\n",
    "# best_epoch, loss_list, val_loss_list = run_train(model, \n",
    "#                                                  'mtnn_data/train/feature.npy', \n",
    "#                                                  'mtnn_data/train/output.npy', \n",
    "#                                                  'mtnn_data/validation/feature.npy', \n",
    "#                                                  'mtnn_data/validation/output.npy',\n",
    "#                                                  batch_size=512, n_epochs=100, lr=0.01,\n",
    "#                                                  weight_decay=1e-10, bias_weight_decay=1e-6,\n",
    "#                                                  remove_cov=remove_cov, \n",
    "#                                                  only_keep_cov=only_keep_cov)\n",
    "\n",
    "# best_epoch, loss_list, val_loss_list = run_train(model, \n",
    "#                                                  'mtnn_data/train/feature.npy', \n",
    "#                                                  'mtnn_data/train/output.npy', \n",
    "#                                                  'mtnn_data/validation/feature.npy', \n",
    "#                                                  'mtnn_data/validation/output.npy',\n",
    "#                                                  batch_size=512, n_epochs=100, lr=0.01,\n",
    "#                                                  weight_decay=1e-4, bias_weight_decay=1e0, #TRY HIGHER PENALTY\n",
    "#                                                  remove_cov=remove_cov, \n",
    "#                                                  only_keep_cov=only_keep_cov)\n",
    "\n",
    "# best_epoch, loss_list, val_loss_list = run_train(model, \n",
    "#                                                  'mtnn_data/train/feature.npy', \n",
    "#                                                  'mtnn_data/train/output.npy', \n",
    "#                                                  'mtnn_data/validation/feature.npy', \n",
    "#                                                  'mtnn_data/validation/output.npy',\n",
    "#                                                  batch_size=512, n_epochs=100, lr=0.01,\n",
    "#                                                  weight_decay=1e-5, bias_weight_decay=1e-5, #TRY HIGHER PENALTY\n",
    "#                                                  remove_cov=remove_cov, \n",
    "#                                                  only_keep_cov=only_keep_cov)\n",
    "\n",
    "best_epoch, loss_list, val_loss_list = run_train(model, \n",
    "                                                 'mtnn_data/train/feature.npy', \n",
    "                                                 'mtnn_data/train/output.npy', \n",
    "                                                 'mtnn_data/validation/feature.npy', \n",
    "                                                 'mtnn_data/validation/output.npy',\n",
    "                                                 batch_size=256, n_epochs=100, lr=0.03,\n",
    "                                                 weight_decay=1e-4, bias_weight_decay=1e-4, #TRY HIGHER PENALTY\n",
    "                                                 remove_cov=remove_cov, \n",
    "                                                 only_keep_cov=only_keep_cov)"
   ]
  },
  {
   "cell_type": "code",
   "execution_count": null,
   "metadata": {},
   "outputs": [],
   "source": []
  },
  {
   "cell_type": "code",
   "execution_count": null,
   "metadata": {},
   "outputs": [],
   "source": []
  },
  {
   "cell_type": "code",
   "execution_count": null,
   "metadata": {
    "scrolled": false
   },
   "outputs": [
    {
     "name": "stdout",
     "output_type": "stream",
     "text": [
      "GPU is available\n"
     ]
    },
    {
     "data": {
      "application/vnd.jupyter.widget-view+json": {
       "model_id": "244409d6b53f4162a770d0e65c86f127",
       "version_major": 2,
       "version_minor": 0
      },
      "text/plain": [
       "  0%|          | 0/100 [00:00<?, ?it/s]"
      ]
     },
     "metadata": {},
     "output_type": "display_data"
    },
    {
     "data": {
      "application/vnd.jupyter.widget-view+json": {
       "model_id": "cde5001abdcd4ef19741b724bb15e57b",
       "version_major": 2,
       "version_minor": 0
      },
      "text/plain": [
       "  0%|          | 0/228 [00:00<?, ?it/s]"
      ]
     },
     "metadata": {},
     "output_type": "display_data"
    },
    {
     "name": "stdout",
     "output_type": "stream",
     "text": [
      "Epoch: 1/100............. Training Loss: -14.9319 Validation Loss: -14.5558\n",
      "Validation loss decreased (inf --> -14.555849).  Saving model ...\n"
     ]
    },
    {
     "data": {
      "application/vnd.jupyter.widget-view+json": {
       "model_id": "9bedbad6c4b24e8a82e3c1a4696d5c3c",
       "version_major": 2,
       "version_minor": 0
      },
      "text/plain": [
       "  0%|          | 0/228 [00:00<?, ?it/s]"
      ]
     },
     "metadata": {},
     "output_type": "display_data"
    },
    {
     "data": {
      "application/vnd.jupyter.widget-view+json": {
       "model_id": "5a126681aba74a8e9752b7e71b16882d",
       "version_major": 2,
       "version_minor": 0
      },
      "text/plain": [
       "  0%|          | 0/228 [00:00<?, ?it/s]"
      ]
     },
     "metadata": {},
     "output_type": "display_data"
    },
    {
     "data": {
      "application/vnd.jupyter.widget-view+json": {
       "model_id": "aa29d8ff90b14ad3ac6af6be6e0385b9",
       "version_major": 2,
       "version_minor": 0
      },
      "text/plain": [
       "  0%|          | 0/228 [00:00<?, ?it/s]"
      ]
     },
     "metadata": {},
     "output_type": "display_data"
    },
    {
     "data": {
      "application/vnd.jupyter.widget-view+json": {
       "model_id": "6ebc1a5ea7f846679be106bc62390814",
       "version_major": 2,
       "version_minor": 0
      },
      "text/plain": [
       "  0%|          | 0/228 [00:00<?, ?it/s]"
      ]
     },
     "metadata": {},
     "output_type": "display_data"
    },
    {
     "data": {
      "application/vnd.jupyter.widget-view+json": {
       "model_id": "36961fb5d14244639aad40c051df024f",
       "version_major": 2,
       "version_minor": 0
      },
      "text/plain": [
       "  0%|          | 0/228 [00:00<?, ?it/s]"
      ]
     },
     "metadata": {},
     "output_type": "display_data"
    },
    {
     "name": "stdout",
     "output_type": "stream",
     "text": [
      "Epoch: 6/100............. Training Loss: -14.9424 Validation Loss: -14.5683\n",
      "Validation loss decreased (-14.555849 --> -14.568295).  Saving model ...\n"
     ]
    },
    {
     "data": {
      "application/vnd.jupyter.widget-view+json": {
       "model_id": "94765be46e4647599c94a7e60a955dd3",
       "version_major": 2,
       "version_minor": 0
      },
      "text/plain": [
       "  0%|          | 0/228 [00:00<?, ?it/s]"
      ]
     },
     "metadata": {},
     "output_type": "display_data"
    },
    {
     "data": {
      "application/vnd.jupyter.widget-view+json": {
       "model_id": "4e4c4a26e5a24fb4adb3f7f1e3bf4bdd",
       "version_major": 2,
       "version_minor": 0
      },
      "text/plain": [
       "  0%|          | 0/228 [00:00<?, ?it/s]"
      ]
     },
     "metadata": {},
     "output_type": "display_data"
    },
    {
     "data": {
      "application/vnd.jupyter.widget-view+json": {
       "model_id": "d86aaaf289964da896daa3e53b742f0b",
       "version_major": 2,
       "version_minor": 0
      },
      "text/plain": [
       "  0%|          | 0/228 [00:00<?, ?it/s]"
      ]
     },
     "metadata": {},
     "output_type": "display_data"
    },
    {
     "data": {
      "application/vnd.jupyter.widget-view+json": {
       "model_id": "1bf87a7830f94377a280abdff7dd7860",
       "version_major": 2,
       "version_minor": 0
      },
      "text/plain": [
       "  0%|          | 0/228 [00:00<?, ?it/s]"
      ]
     },
     "metadata": {},
     "output_type": "display_data"
    },
    {
     "data": {
      "application/vnd.jupyter.widget-view+json": {
       "model_id": "cf37a8dabfc0461cb5c36f5776ae574a",
       "version_major": 2,
       "version_minor": 0
      },
      "text/plain": [
       "  0%|          | 0/228 [00:00<?, ?it/s]"
      ]
     },
     "metadata": {},
     "output_type": "display_data"
    },
    {
     "name": "stdout",
     "output_type": "stream",
     "text": [
      "Epoch: 11/100............. Training Loss: -14.9998 Validation Loss: -14.6196\n",
      "Validation loss decreased (-14.568295 --> -14.619618).  Saving model ...\n"
     ]
    },
    {
     "data": {
      "application/vnd.jupyter.widget-view+json": {
       "model_id": "dfda06bf88de407e9005c73e82c0db45",
       "version_major": 2,
       "version_minor": 0
      },
      "text/plain": [
       "  0%|          | 0/228 [00:00<?, ?it/s]"
      ]
     },
     "metadata": {},
     "output_type": "display_data"
    },
    {
     "data": {
      "application/vnd.jupyter.widget-view+json": {
       "model_id": "1875e545a5a84f4bacbed07186bb2fe2",
       "version_major": 2,
       "version_minor": 0
      },
      "text/plain": [
       "  0%|          | 0/228 [00:00<?, ?it/s]"
      ]
     },
     "metadata": {},
     "output_type": "display_data"
    },
    {
     "data": {
      "application/vnd.jupyter.widget-view+json": {
       "model_id": "0ec34eda1ba340728266c7a4cb3595c4",
       "version_major": 2,
       "version_minor": 0
      },
      "text/plain": [
       "  0%|          | 0/228 [00:00<?, ?it/s]"
      ]
     },
     "metadata": {},
     "output_type": "display_data"
    },
    {
     "data": {
      "application/vnd.jupyter.widget-view+json": {
       "model_id": "1b074813407d4c048af438ac5a311209",
       "version_major": 2,
       "version_minor": 0
      },
      "text/plain": [
       "  0%|          | 0/228 [00:00<?, ?it/s]"
      ]
     },
     "metadata": {},
     "output_type": "display_data"
    },
    {
     "data": {
      "application/vnd.jupyter.widget-view+json": {
       "model_id": "196f547dc1c74e4dbc42514517f3510f",
       "version_major": 2,
       "version_minor": 0
      },
      "text/plain": [
       "  0%|          | 0/228 [00:00<?, ?it/s]"
      ]
     },
     "metadata": {},
     "output_type": "display_data"
    },
    {
     "name": "stdout",
     "output_type": "stream",
     "text": [
      "Epoch: 16/100............. Training Loss: -14.9924 Validation Loss: -14.6110\n"
     ]
    },
    {
     "data": {
      "application/vnd.jupyter.widget-view+json": {
       "model_id": "a814de77fa4e4150a2df17258a80d1cc",
       "version_major": 2,
       "version_minor": 0
      },
      "text/plain": [
       "  0%|          | 0/228 [00:00<?, ?it/s]"
      ]
     },
     "metadata": {},
     "output_type": "display_data"
    },
    {
     "data": {
      "application/vnd.jupyter.widget-view+json": {
       "model_id": "152759dc2914448986b74cd2c1037293",
       "version_major": 2,
       "version_minor": 0
      },
      "text/plain": [
       "  0%|          | 0/228 [00:00<?, ?it/s]"
      ]
     },
     "metadata": {},
     "output_type": "display_data"
    },
    {
     "data": {
      "application/vnd.jupyter.widget-view+json": {
       "model_id": "a6b9dbcc4fc24b3ca9932ed1e35e7034",
       "version_major": 2,
       "version_minor": 0
      },
      "text/plain": [
       "  0%|          | 0/228 [00:00<?, ?it/s]"
      ]
     },
     "metadata": {},
     "output_type": "display_data"
    },
    {
     "data": {
      "application/vnd.jupyter.widget-view+json": {
       "model_id": "35f81cc809b04e14b14ec41e7c5545a5",
       "version_major": 2,
       "version_minor": 0
      },
      "text/plain": [
       "  0%|          | 0/228 [00:00<?, ?it/s]"
      ]
     },
     "metadata": {},
     "output_type": "display_data"
    },
    {
     "data": {
      "application/vnd.jupyter.widget-view+json": {
       "model_id": "56e45a701c4c43e5aec1732ea4d30c58",
       "version_major": 2,
       "version_minor": 0
      },
      "text/plain": [
       "  0%|          | 0/228 [00:00<?, ?it/s]"
      ]
     },
     "metadata": {},
     "output_type": "display_data"
    },
    {
     "name": "stdout",
     "output_type": "stream",
     "text": [
      "Epoch: 21/100............. Training Loss: -15.0045 Validation Loss: -14.6158\n"
     ]
    },
    {
     "data": {
      "application/vnd.jupyter.widget-view+json": {
       "model_id": "877f6052dc7543b397ff959ba84e4cc5",
       "version_major": 2,
       "version_minor": 0
      },
      "text/plain": [
       "  0%|          | 0/228 [00:00<?, ?it/s]"
      ]
     },
     "metadata": {},
     "output_type": "display_data"
    },
    {
     "data": {
      "application/vnd.jupyter.widget-view+json": {
       "model_id": "2dd99ad412bf4bd5886acfa50af5d161",
       "version_major": 2,
       "version_minor": 0
      },
      "text/plain": [
       "  0%|          | 0/228 [00:00<?, ?it/s]"
      ]
     },
     "metadata": {},
     "output_type": "display_data"
    },
    {
     "data": {
      "application/vnd.jupyter.widget-view+json": {
       "model_id": "eda73a9c6b604b1dbb698b158bc9d3f6",
       "version_major": 2,
       "version_minor": 0
      },
      "text/plain": [
       "  0%|          | 0/228 [00:00<?, ?it/s]"
      ]
     },
     "metadata": {},
     "output_type": "display_data"
    },
    {
     "data": {
      "application/vnd.jupyter.widget-view+json": {
       "model_id": "38270ee9cefd40c0a5e2cc03cfe59995",
       "version_major": 2,
       "version_minor": 0
      },
      "text/plain": [
       "  0%|          | 0/228 [00:00<?, ?it/s]"
      ]
     },
     "metadata": {},
     "output_type": "display_data"
    },
    {
     "data": {
      "application/vnd.jupyter.widget-view+json": {
       "model_id": "5c918737b6454c648ddffc9bcda93b6c",
       "version_major": 2,
       "version_minor": 0
      },
      "text/plain": [
       "  0%|          | 0/228 [00:00<?, ?it/s]"
      ]
     },
     "metadata": {},
     "output_type": "display_data"
    },
    {
     "name": "stdout",
     "output_type": "stream",
     "text": [
      "Epoch: 26/100............. Training Loss: -15.0040 Validation Loss: -14.6109\n"
     ]
    },
    {
     "data": {
      "application/vnd.jupyter.widget-view+json": {
       "model_id": "b765f408a7a2489b85c9a55b91a82ea7",
       "version_major": 2,
       "version_minor": 0
      },
      "text/plain": [
       "  0%|          | 0/228 [00:00<?, ?it/s]"
      ]
     },
     "metadata": {},
     "output_type": "display_data"
    },
    {
     "data": {
      "application/vnd.jupyter.widget-view+json": {
       "model_id": "a7412a71bd3c4113813e4c4c4e9289df",
       "version_major": 2,
       "version_minor": 0
      },
      "text/plain": [
       "  0%|          | 0/228 [00:00<?, ?it/s]"
      ]
     },
     "metadata": {},
     "output_type": "display_data"
    },
    {
     "data": {
      "application/vnd.jupyter.widget-view+json": {
       "model_id": "f02a6e44aadc4ed4bb63bbc995506cdd",
       "version_major": 2,
       "version_minor": 0
      },
      "text/plain": [
       "  0%|          | 0/228 [00:00<?, ?it/s]"
      ]
     },
     "metadata": {},
     "output_type": "display_data"
    },
    {
     "data": {
      "application/vnd.jupyter.widget-view+json": {
       "model_id": "993e10f62b6f485788f542678683b778",
       "version_major": 2,
       "version_minor": 0
      },
      "text/plain": [
       "  0%|          | 0/228 [00:00<?, ?it/s]"
      ]
     },
     "metadata": {},
     "output_type": "display_data"
    },
    {
     "data": {
      "application/vnd.jupyter.widget-view+json": {
       "model_id": "9ee56f41e3914adeb49ab5e0e56cbf67",
       "version_major": 2,
       "version_minor": 0
      },
      "text/plain": [
       "  0%|          | 0/228 [00:00<?, ?it/s]"
      ]
     },
     "metadata": {},
     "output_type": "display_data"
    },
    {
     "name": "stdout",
     "output_type": "stream",
     "text": [
      "Epoch: 31/100............. Training Loss: -15.0035 Validation Loss: -14.6170\n"
     ]
    },
    {
     "data": {
      "application/vnd.jupyter.widget-view+json": {
       "model_id": "0af16e9fc2c443aab985b1c9567bde6d",
       "version_major": 2,
       "version_minor": 0
      },
      "text/plain": [
       "  0%|          | 0/228 [00:00<?, ?it/s]"
      ]
     },
     "metadata": {},
     "output_type": "display_data"
    },
    {
     "data": {
      "application/vnd.jupyter.widget-view+json": {
       "model_id": "166246a0e01d45e991801550b1973c02",
       "version_major": 2,
       "version_minor": 0
      },
      "text/plain": [
       "  0%|          | 0/228 [00:00<?, ?it/s]"
      ]
     },
     "metadata": {},
     "output_type": "display_data"
    },
    {
     "data": {
      "application/vnd.jupyter.widget-view+json": {
       "model_id": "3b7bce9eabdc44b09f54655ffc6c750a",
       "version_major": 2,
       "version_minor": 0
      },
      "text/plain": [
       "  0%|          | 0/228 [00:00<?, ?it/s]"
      ]
     },
     "metadata": {},
     "output_type": "display_data"
    },
    {
     "data": {
      "application/vnd.jupyter.widget-view+json": {
       "model_id": "2ce5b2a89abd4de88112de360a6f3a2a",
       "version_major": 2,
       "version_minor": 0
      },
      "text/plain": [
       "  0%|          | 0/228 [00:00<?, ?it/s]"
      ]
     },
     "metadata": {},
     "output_type": "display_data"
    },
    {
     "data": {
      "application/vnd.jupyter.widget-view+json": {
       "model_id": "feae2bd3e2f14ae89ce2fc704d9899cd",
       "version_major": 2,
       "version_minor": 0
      },
      "text/plain": [
       "  0%|          | 0/228 [00:00<?, ?it/s]"
      ]
     },
     "metadata": {},
     "output_type": "display_data"
    },
    {
     "name": "stdout",
     "output_type": "stream",
     "text": [
      "Epoch: 36/100............. Training Loss: -14.9968 Validation Loss: -14.6031\n"
     ]
    },
    {
     "data": {
      "application/vnd.jupyter.widget-view+json": {
       "model_id": "1438895dd476485b8d852bb0dd58653f",
       "version_major": 2,
       "version_minor": 0
      },
      "text/plain": [
       "  0%|          | 0/228 [00:00<?, ?it/s]"
      ]
     },
     "metadata": {},
     "output_type": "display_data"
    },
    {
     "data": {
      "application/vnd.jupyter.widget-view+json": {
       "model_id": "094bce4c0a6b4b72bf90f5f6446ec6ba",
       "version_major": 2,
       "version_minor": 0
      },
      "text/plain": [
       "  0%|          | 0/228 [00:00<?, ?it/s]"
      ]
     },
     "metadata": {},
     "output_type": "display_data"
    },
    {
     "data": {
      "application/vnd.jupyter.widget-view+json": {
       "model_id": "8c89bf0d34384d7d930ee9ee20ac918c",
       "version_major": 2,
       "version_minor": 0
      },
      "text/plain": [
       "  0%|          | 0/228 [00:00<?, ?it/s]"
      ]
     },
     "metadata": {},
     "output_type": "display_data"
    },
    {
     "data": {
      "application/vnd.jupyter.widget-view+json": {
       "model_id": "fc6b0d5b8b024de3adf8f238653f923c",
       "version_major": 2,
       "version_minor": 0
      },
      "text/plain": [
       "  0%|          | 0/228 [00:00<?, ?it/s]"
      ]
     },
     "metadata": {},
     "output_type": "display_data"
    },
    {
     "data": {
      "application/vnd.jupyter.widget-view+json": {
       "model_id": "c3a3d14149bb4b9a88ee694d9a671ac7",
       "version_major": 2,
       "version_minor": 0
      },
      "text/plain": [
       "  0%|          | 0/228 [00:00<?, ?it/s]"
      ]
     },
     "metadata": {},
     "output_type": "display_data"
    },
    {
     "name": "stdout",
     "output_type": "stream",
     "text": [
      "Epoch: 41/100............. Training Loss: -15.0090 Validation Loss: -14.6094\n"
     ]
    },
    {
     "data": {
      "application/vnd.jupyter.widget-view+json": {
       "model_id": "62b076c85f354725b018ca5696bf2420",
       "version_major": 2,
       "version_minor": 0
      },
      "text/plain": [
       "  0%|          | 0/228 [00:00<?, ?it/s]"
      ]
     },
     "metadata": {},
     "output_type": "display_data"
    },
    {
     "data": {
      "application/vnd.jupyter.widget-view+json": {
       "model_id": "550020fa9b71414f949076d6fc711c65",
       "version_major": 2,
       "version_minor": 0
      },
      "text/plain": [
       "  0%|          | 0/228 [00:00<?, ?it/s]"
      ]
     },
     "metadata": {},
     "output_type": "display_data"
    },
    {
     "data": {
      "application/vnd.jupyter.widget-view+json": {
       "model_id": "7549237c9361446b966c8ecb5756a743",
       "version_major": 2,
       "version_minor": 0
      },
      "text/plain": [
       "  0%|          | 0/228 [00:00<?, ?it/s]"
      ]
     },
     "metadata": {},
     "output_type": "display_data"
    },
    {
     "data": {
      "application/vnd.jupyter.widget-view+json": {
       "model_id": "0d7fdc96af504836988331e56d66ea60",
       "version_major": 2,
       "version_minor": 0
      },
      "text/plain": [
       "  0%|          | 0/228 [00:00<?, ?it/s]"
      ]
     },
     "metadata": {},
     "output_type": "display_data"
    },
    {
     "data": {
      "application/vnd.jupyter.widget-view+json": {
       "model_id": "72b487da99df4b90bd6aad9652e0eeac",
       "version_major": 2,
       "version_minor": 0
      },
      "text/plain": [
       "  0%|          | 0/228 [00:00<?, ?it/s]"
      ]
     },
     "metadata": {},
     "output_type": "display_data"
    },
    {
     "name": "stdout",
     "output_type": "stream",
     "text": [
      "Epoch: 46/100............. Training Loss: -15.0074 Validation Loss: -14.6112\n"
     ]
    },
    {
     "data": {
      "application/vnd.jupyter.widget-view+json": {
       "model_id": "69175eeee4b04872a837cbf2990c32a5",
       "version_major": 2,
       "version_minor": 0
      },
      "text/plain": [
       "  0%|          | 0/228 [00:00<?, ?it/s]"
      ]
     },
     "metadata": {},
     "output_type": "display_data"
    },
    {
     "data": {
      "application/vnd.jupyter.widget-view+json": {
       "model_id": "8ba8ab07664d42c79d2cde891a269f39",
       "version_major": 2,
       "version_minor": 0
      },
      "text/plain": [
       "  0%|          | 0/228 [00:00<?, ?it/s]"
      ]
     },
     "metadata": {},
     "output_type": "display_data"
    },
    {
     "data": {
      "application/vnd.jupyter.widget-view+json": {
       "model_id": "b3a11c1a9fab422591f91db303d50632",
       "version_major": 2,
       "version_minor": 0
      },
      "text/plain": [
       "  0%|          | 0/228 [00:00<?, ?it/s]"
      ]
     },
     "metadata": {},
     "output_type": "display_data"
    },
    {
     "data": {
      "application/vnd.jupyter.widget-view+json": {
       "model_id": "7868e3648d864cb1a273a25aea93a4dd",
       "version_major": 2,
       "version_minor": 0
      },
      "text/plain": [
       "  0%|          | 0/228 [00:00<?, ?it/s]"
      ]
     },
     "metadata": {},
     "output_type": "display_data"
    },
    {
     "data": {
      "application/vnd.jupyter.widget-view+json": {
       "model_id": "1ce0201ceba84747ad49b5ae93a2f8ce",
       "version_major": 2,
       "version_minor": 0
      },
      "text/plain": [
       "  0%|          | 0/228 [00:00<?, ?it/s]"
      ]
     },
     "metadata": {},
     "output_type": "display_data"
    },
    {
     "name": "stdout",
     "output_type": "stream",
     "text": [
      "Epoch: 51/100............. Training Loss: -14.9993 Validation Loss: -14.6175\n"
     ]
    },
    {
     "data": {
      "application/vnd.jupyter.widget-view+json": {
       "model_id": "8177be70cd174687b249265faba99f5f",
       "version_major": 2,
       "version_minor": 0
      },
      "text/plain": [
       "  0%|          | 0/228 [00:00<?, ?it/s]"
      ]
     },
     "metadata": {},
     "output_type": "display_data"
    }
   ],
   "source": [
    "# prev: hidden_size = 16, n_layers=2, batch_size=256, random_sliding=1~2*max\n",
    "model = initialize_mtnn(n_neurons=n_neurons, \n",
    "                        input_size_static=INPUT_SIZE_STATIC, \n",
    "                        input_size_dynamic=INPUT_SIZE_DYNAMIC,\n",
    "                        static_bias=False, dynamic_bias=True, \n",
    "                        hidden_dim_static=HIDDEN_SIZE_STATIC, \n",
    "                        hidden_dim_dynamic=HIDDEN_SIZE_DYNAMIC, n_layers=n_layers, dropout=0.5)\n",
    "remove_cov = ['all']\n",
    "only_keep_cov = None\n",
    "# -15.5\n",
    "best_epoch, loss_list, val_loss_list = run_train(model, \n",
    "                                                 'mtnn_data/train/feature.npy', \n",
    "                                                 'mtnn_data/train/output.npy', \n",
    "                                                 'mtnn_data/validation/feature.npy', \n",
    "                                                 'mtnn_data/validation/output.npy',\n",
    "                                                 batch_size=256, n_epochs=100, lr=0.03,\n",
    "                                                 weight_decay=1e-4, bias_weight_decay=1e-4,\n",
    "                                                 remove_cov=remove_cov, \n",
    "                                                 only_keep_cov=only_keep_cov,\n",
    "                                                 model_name_suffix='dynamic_bias')"
   ]
  },
  {
   "cell_type": "code",
   "execution_count": null,
   "metadata": {},
   "outputs": [],
   "source": [
    "# prev: hidden_size = 16, n_layers=2, batch_size=256, random_sliding=1~2*max\n",
    "model = initialize_mtnn(n_neurons=n_neurons, \n",
    "                        input_size_static=INPUT_SIZE_STATIC, \n",
    "                        input_size_dynamic=INPUT_SIZE_DYNAMIC,\n",
    "                        static_bias=True, dynamic_bias=False, \n",
    "                        hidden_dim_static=HIDDEN_SIZE_STATIC, \n",
    "                        hidden_dim_dynamic=HIDDEN_SIZE_DYNAMIC, n_layers=n_layers, dropout=0.2)\n",
    "remove_cov = ['all']\n",
    "only_keep_cov = None\n",
    "# -17.7~-17.8\n",
    "best_epoch, loss_list, val_loss_list = run_train(model, \n",
    "                                                 'mtnn_data/train/feature.npy', \n",
    "                                                 'mtnn_data/train/output.npy', \n",
    "                                                 'mtnn_data/validation/feature.npy', \n",
    "                                                 'mtnn_data/validation/output.npy',\n",
    "                                                 batch_size=1024, n_epochs=150, lr=0.01,\n",
    "                                                 weight_decay=1e-8,\n",
    "                                                 remove_cov=remove_cov, \n",
    "                                                 only_keep_cov=only_keep_cov,\n",
    "                                                 model_name_suffix='static_bias')"
   ]
  },
  {
   "cell_type": "code",
   "execution_count": null,
   "metadata": {},
   "outputs": [],
   "source": []
  },
  {
   "cell_type": "code",
   "execution_count": null,
   "metadata": {},
   "outputs": [],
   "source": []
  },
  {
   "cell_type": "code",
   "execution_count": null,
   "metadata": {},
   "outputs": [],
   "source": [
    "plt.figure(figsize=(10,8))\n",
    "plt.plot(np.append(np.arange(1,50,5), 50), val_loss_list, lw=4, color='r', label='validation loss')\n",
    "plt.plot(np.append(np.arange(1,50,5), 50), loss_list, lw=2, color='k', label='train loss')\n",
    "plt.xlabel('epochs', fontsize=20)\n",
    "plt.ylabel('Poisson negative log-likelihood', fontsize=20)\n",
    "plt.legend(fontsize=20)\n",
    "# plt.savefig('plots/loss.png', bbox_inches='tight', facecolor='white')\n",
    "plt.show()"
   ]
  },
  {
   "cell_type": "code",
   "execution_count": null,
   "metadata": {},
   "outputs": [],
   "source": []
  },
  {
   "cell_type": "code",
   "execution_count": null,
   "metadata": {},
   "outputs": [],
   "source": []
  },
  {
   "cell_type": "code",
   "execution_count": null,
   "metadata": {},
   "outputs": [],
   "source": [
    "model = initialize_mtnn(n_neurons=n_neurons, \n",
    "                        input_size_static=INPUT_SIZE_STATIC, \n",
    "                        input_size_dynamic=INPUT_SIZE_DYNAMIC,\n",
    "                        static_bias=False, dynamic_bias=True, \n",
    "                        hidden_dim_static=HIDDEN_SIZE_STATIC, \n",
    "                        hidden_dim_dynamic=HIDDEN_SIZE_DYNAMIC, n_layers=n_layers, dropout=0.2)"
   ]
  },
  {
   "cell_type": "code",
   "execution_count": null,
   "metadata": {},
   "outputs": [],
   "source": [
    "remove_cov = None #['all']\n",
    "only_keep_cov = 'noise'"
   ]
  },
  {
   "cell_type": "code",
   "execution_count": null,
   "metadata": {},
   "outputs": [],
   "source": [
    "print('loading... '+f'trained_models/state_dict_rem={remove_cov}_keep={only_keep_cov}.pt')\n",
    "model.load_state_dict(torch.load(f'trained_models/state_dict_rem={remove_cov}_keep={only_keep_cov}.pt'))\n",
    "\n",
    "# print('loading... '+f'trained_models/state_dict_rem={remove_cov}_keep={only_keep_cov}.pt')\n",
    "# model.load_state_dict(torch.load(f'trained_models/state_dict_rem={remove_cov}_keep={only_keep_cov}_dynamic_bias.pt'))"
   ]
  },
  {
   "cell_type": "code",
   "execution_count": null,
   "metadata": {},
   "outputs": [],
   "source": []
  },
  {
   "cell_type": "code",
   "execution_count": null,
   "metadata": {
    "scrolled": true
   },
   "outputs": [],
   "source": [
    "data_dir = 'test'\n",
    "preds, loss = run_eval(model,f'mtnn_data/{data_dir}/feature.npy',\n",
    "                            f'mtnn_data/{data_dir}/output.npy', \n",
    "                            remove_cov=remove_cov, only_keep_cov=only_keep_cov)\n",
    "print(f'{data_dir} loss: {loss}')"
   ]
  },
  {
   "cell_type": "code",
   "execution_count": null,
   "metadata": {},
   "outputs": [],
   "source": [
    "preds_shape = np.load(f'mtnn_data/{data_dir}/shape.npy')\n",
    "obs = np.load(f'mtnn_data/{data_dir}/output.npy')\n",
    "test_feature = np.load(f'mtnn_data/{data_dir}/feature.npy')\n",
    "neu_list = np.load('mtnn_data/clusters.npy', allow_pickle=True)\n",
    "sess_list = np.load('mtnn_data/session_info.npy', allow_pickle=True).tolist()"
   ]
  },
  {
   "cell_type": "code",
   "execution_count": null,
   "metadata": {},
   "outputs": [],
   "source": [
    "pred_list = []\n",
    "obs_list = []\n",
    "feature_list = []\n",
    "idx = 0\n",
    "for sh in preds_shape:\n",
    "    n = sh[0]*sh[1]\n",
    "    pred_list.append(preds[idx:idx+n].reshape(sh[:-1]))\n",
    "    obs_list.append(obs[idx:idx+n].reshape(sh[:-1]))\n",
    "    feature_list.append(test_feature[idx:idx+n].reshape(sh))\n",
    "    idx += n"
   ]
  },
  {
   "cell_type": "code",
   "execution_count": null,
   "metadata": {
    "scrolled": true
   },
   "outputs": [],
   "source": [
    "# sess = 1\n",
    "# for i in range(10):\n",
    "#     plt.figure(figsize=(10,4))\n",
    "#     plt.plot(obs_list[sess][i].mean(0), color='k')\n",
    "#     plt.plot(pred_list[sess][i].mean(0), color='r')\n",
    "#     plt.show()\n",
    "    \n",
    "#     plt.figure()\n",
    "#     plt.imshow(obs_list[sess][i], aspect='auto')\n",
    "#     plt.show()\n",
    "#     plt.figure()\n",
    "#     plt.imshow(pred_list[sess][i], aspect='auto')\n",
    "#     plt.show()\n",
    "#     print('-----------------------------------------')"
   ]
  },
  {
   "cell_type": "code",
   "execution_count": null,
   "metadata": {
    "scrolled": false
   },
   "outputs": [],
   "source": [
    "# generate_figure_9(feature_list, pred_list, obs_list, \n",
    "#                 neu_list, sess_list, trial_list, which_sess=[0], savefig=False)"
   ]
  },
  {
   "cell_type": "code",
   "execution_count": null,
   "metadata": {},
   "outputs": [],
   "source": []
  },
  {
   "cell_type": "code",
   "execution_count": null,
   "metadata": {},
   "outputs": [],
   "source": [
    "from figure10 import compute_scores_for_figure_10, load_test_model"
   ]
  },
  {
   "cell_type": "code",
   "execution_count": null,
   "metadata": {},
   "outputs": [],
   "source": [
    "model_config = {'n_neurons': n_neurons,\n",
    "                'input_size_static': INPUT_SIZE_STATIC,\n",
    "                'input_size_dynamic': INPUT_SIZE_DYNAMIC,\n",
    "                'hidden_size_static': HIDDEN_SIZE_STATIC,\n",
    "                'hidden_size_dynamic': HIDDEN_SIZE_DYNAMIC,\n",
    "                'static_bias': False,\n",
    "                'dynamic_bias': True,\n",
    "                'n_layers': n_layers}"
   ]
  },
  {
   "cell_type": "code",
   "execution_count": null,
   "metadata": {},
   "outputs": [],
   "source": [
    "data_dir = 'test'\n",
    "preds_shape = np.load(f'mtnn_data/{data_dir}/shape.npy')\n",
    "obs = np.load(f'mtnn_data/{data_dir}/output.npy')\n",
    "test_feature = np.load(f'mtnn_data/{data_dir}/feature.npy')\n",
    "trial_list = np.load(f'mtnn_data/{data_dir}/trials.npy', allow_pickle=True)\n",
    "\n",
    "obs_list = []\n",
    "feature_list = []\n",
    "idx = 0\n",
    "for sh in preds_shape:\n",
    "    n = sh[0]*sh[1]\n",
    "    obs_list.append(obs[idx:idx+n].reshape(sh[:-1]))\n",
    "    feature_list.append(test_feature[idx:idx+n].reshape(sh))\n",
    "    idx += n\n",
    "baseline_score = load_test_model(model_config, None, 'noise', \n",
    "                                 obs_list, preds_shape, use_psth=False, \n",
    "                                 data_dir=data_dir, model_name_suffix=None)\n",
    "# baseline_score2 = load_test_model(model_config, ['all'], None, \n",
    "#                                  obs_list, preds_shape, use_psth=False, \n",
    "#                                  data_dir=data_dir, model_name_suffix='dynamic_bias')"
   ]
  },
  {
   "cell_type": "code",
   "execution_count": null,
   "metadata": {},
   "outputs": [],
   "source": [
    "plt.figure(figsize=(6,12))\n",
    "plt.scatter(np.ones_like(baseline_score)+np.random.normal(size=baseline_score.shape[0])/10, \n",
    "            baseline_score, color='k', alpha=0.2)\n",
    "# plt.ylim(-0.6,0.45)\n",
    "plt.xlim(0,2)\n",
    "plt.axhline(np.median(baseline_score), color='r')"
   ]
  },
  {
   "cell_type": "code",
   "execution_count": null,
   "metadata": {},
   "outputs": [],
   "source": [
    "plt.figure(figsize=(6,12))\n",
    "plt.scatter(np.ones_like(baseline_score)+np.random.normal(size=baseline_score.shape[0])/10, \n",
    "            baseline_score, color='k', alpha=0.2)\n",
    "plt.ylim(-0.5,0.5)\n",
    "plt.xlim(0,2)\n",
    "plt.axhline(np.median(baseline_score), color='r')"
   ]
  },
  {
   "cell_type": "code",
   "execution_count": null,
   "metadata": {},
   "outputs": [],
   "source": [
    "glm_scores = np.load('glm_scores.npy')"
   ]
  },
  {
   "cell_type": "code",
   "execution_count": null,
   "metadata": {},
   "outputs": [],
   "source": [
    "plt.figure(figsize=(7,7))\n",
    "plt.scatter(baseline_score, glm_scores, color='k', alpha=0.4)\n",
    "plt.plot([-1,1],[-1,1], color='k')\n",
    "plt.xlim(-0.05,0.52)\n",
    "plt.ylim(-0.05,0.52)\n",
    "plt.ylabel('GLM R2')\n",
    "plt.xlabel('MTNN R2')"
   ]
  },
  {
   "cell_type": "code",
   "execution_count": null,
   "metadata": {},
   "outputs": [],
   "source": []
  },
  {
   "cell_type": "code",
   "execution_count": null,
   "metadata": {},
   "outputs": [],
   "source": [
    "(baseline_score > 0.1).sum()"
   ]
  },
  {
   "cell_type": "code",
   "execution_count": null,
   "metadata": {},
   "outputs": [],
   "source": [
    "reshaped_score = reshape_flattened(baseline_score, preds_shape, trim=3)"
   ]
  },
  {
   "cell_type": "code",
   "execution_count": null,
   "metadata": {
    "scrolled": false
   },
   "outputs": [],
   "source": [
    "for i, reshaped in enumerate(reshaped_score):\n",
    "    print(i)\n",
    "    idx = reshaped > 0.1\n",
    "    generate_figure_9(feature_list, pred_list, obs_list, \n",
    "                    neu_list, sess_list, trial_list, which_sess=[i], \n",
    "                      savefig=False, plot_subsample_ratio=1.0, plot_neurons = idx, subdir='good')\n"
   ]
  },
  {
   "cell_type": "code",
   "execution_count": null,
   "metadata": {
    "scrolled": true
   },
   "outputs": [],
   "source": [
    "# for i, reshaped in enumerate(reshaped_score):\n",
    "#     print(i)\n",
    "#     idx = reshaped > 0.3\n",
    "#     generate_figure_9(feature_list, pred_list, obs_list, \n",
    "#                     neu_list, sess_list, trial_list, which_sess=[i], \n",
    "#                       savefig=False, plot_subsample_ratio=1.0, plot_neurons = idx, subdir='good')\n"
   ]
  },
  {
   "cell_type": "code",
   "execution_count": null,
   "metadata": {},
   "outputs": [],
   "source": []
  },
  {
   "cell_type": "code",
   "execution_count": null,
   "metadata": {},
   "outputs": [],
   "source": []
  },
  {
   "cell_type": "code",
   "execution_count": null,
   "metadata": {},
   "outputs": [],
   "source": []
  },
  {
   "cell_type": "code",
   "execution_count": null,
   "metadata": {},
   "outputs": [],
   "source": []
  },
  {
   "cell_type": "code",
   "execution_count": null,
   "metadata": {
    "scrolled": false
   },
   "outputs": [],
   "source": [
    "generate_figure9_supplement1(model_config, savefig=True)"
   ]
  },
  {
   "cell_type": "code",
   "execution_count": null,
   "metadata": {
    "scrolled": false
   },
   "outputs": [],
   "source": [
    "generate_figure9_supplement3(model_config, savefig=True)"
   ]
  },
  {
   "cell_type": "code",
   "execution_count": null,
   "metadata": {},
   "outputs": [],
   "source": []
  },
  {
   "cell_type": "code",
   "execution_count": null,
   "metadata": {},
   "outputs": [],
   "source": []
  }
 ],
 "metadata": {
  "kernelspec": {
   "display_name": "iblenv-updated",
   "language": "python",
   "name": "iblenv-updated"
  },
  "language_info": {
   "codemirror_mode": {
    "name": "ipython",
    "version": 3
   },
   "file_extension": ".py",
   "mimetype": "text/x-python",
   "name": "python",
   "nbconvert_exporter": "python",
   "pygments_lexer": "ipython3",
   "version": "3.9.7"
  }
 },
 "nbformat": 4,
 "nbformat_minor": 4
}
