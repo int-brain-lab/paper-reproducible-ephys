{
 "cells": [
  {
   "cell_type": "code",
   "execution_count": null,
   "outputs": [],
   "source": [
    "%load_ext autoreload\n",
    "%autoreload 2\n",
    "\n",
    "from utils import *\n",
    "from mtnn import *\n",
    "from figure9 import *\n",
    "import torch\n",
    "import matplotlib.pyplot as plt"
   ],
   "metadata": {
    "collapsed": false,
    "pycharm": {
     "name": "#%%\n"
    }
   }
  },
  {
   "cell_type": "code",
   "execution_count": null,
   "outputs": [],
   "source": [
    "feature = np.load('mtnn_data/train/feature.npy')\n",
    "output = np.load('mtnn_data/train/output.npy')"
   ],
   "metadata": {
    "collapsed": false,
    "pycharm": {
     "name": "#%%\n"
    }
   }
  },
  {
   "cell_type": "code",
   "execution_count": null,
   "outputs": [],
   "source": [
    "feature.shape"
   ],
   "metadata": {
    "collapsed": false,
    "pycharm": {
     "name": "#%%\n"
    }
   }
  },
  {
   "cell_type": "code",
   "execution_count": null,
   "outputs": [],
   "source": [
    "neuron_order = feature[:,0,0]\n",
    "feature = feature[:,:,1:]"
   ],
   "metadata": {
    "collapsed": false,
    "pycharm": {
     "name": "#%%\n"
    }
   }
  },
  {
   "cell_type": "code",
   "execution_count": null,
   "outputs": [],
   "source": [
    "neurons = np.unique(neuron_order)\n",
    "n_neurons = neurons.shape[0]\n",
    "print('number of neurons: {}'.format(n_neurons))"
   ],
   "metadata": {
    "collapsed": false,
    "pycharm": {
     "name": "#%%\n"
    }
   }
  },
  {
   "cell_type": "code",
   "execution_count": null,
   "outputs": [],
   "source": [
    "INPUT_SIZE_DYNAMIC = feature.shape[-1]-static_idx.shape[0]\n",
    "INPUT_SIZE_STATIC = static_idx.shape[0]\n",
    "print(INPUT_SIZE_STATIC, INPUT_SIZE_DYNAMIC)"
   ],
   "metadata": {
    "collapsed": false,
    "pycharm": {
     "name": "#%%\n"
    }
   }
  },
  {
   "cell_type": "code",
   "execution_count": null,
   "outputs": [],
   "source": [
    "# HIDDEN_SIZE_STATIC = 16\n",
    "# HIDDEN_SIZE_DYNAMIC = 16\n",
    "# n_layers = 1\n",
    "\n",
    "# HIDDEN_SIZE_STATIC = 16\n",
    "# HIDDEN_SIZE_DYNAMIC = 12\n",
    "# n_layers = 2\n",
    "\n",
    "# HIDDEN_SIZE_STATIC = 16\n",
    "# HIDDEN_SIZE_DYNAMIC = 16\n",
    "# n_layers = 2\n",
    "\n",
    "# HIDDEN_SIZE_STATIC = 12\n",
    "# HIDDEN_SIZE_DYNAMIC = 8\n",
    "# n_layers = 2\n",
    "\n",
    "# HIDDEN_SIZE_STATIC = 16\n",
    "# HIDDEN_SIZE_DYNAMIC = 12\n",
    "# n_layers = 1\n",
    "\n",
    "###################################\n",
    "# HIDDEN_SIZE_STATIC = 16\n",
    "# HIDDEN_SIZE_DYNAMIC = 16\n",
    "# n_layers = 2\n",
    "###################################\n",
    "\n",
    "# HIDDEN_SIZE_STATIC = 32\n",
    "# HIDDEN_SIZE_DYNAMIC = 32\n",
    "# n_layers = 2\n",
    "\n",
    "HIDDEN_SIZE_STATIC = 64\n",
    "HIDDEN_SIZE_DYNAMIC = 64\n",
    "n_layers = 2"
   ],
   "metadata": {
    "collapsed": false,
    "pycharm": {
     "name": "#%%\n"
    }
   }
  },
  {
   "cell_type": "code",
   "execution_count": null,
   "outputs": [],
   "source": [
    "for i, key in notebook.tqdm(enumerate(cov_idx_dict.keys())):\n",
    "    if key not in ['choice', 'reward', 'wheel velocity', 'lick']:\n",
    "        continue\n",
    "        \n",
    "    print(f'processing {key}')\n",
    "\n",
    "    # prev: hidden_size = 16, n_layers=2, batch_size=256, random_sliding=1~2*max\n",
    "    model = initialize_mtnn(n_neurons=n_neurons, \n",
    "                            input_size_static=INPUT_SIZE_STATIC, \n",
    "                            input_size_dynamic=INPUT_SIZE_DYNAMIC,\n",
    "                            static_bias=False, dynamic_bias=True, \n",
    "                            hidden_dim_static=HIDDEN_SIZE_STATIC, \n",
    "                            hidden_dim_dynamic=HIDDEN_SIZE_DYNAMIC, n_layers=n_layers, dropout=0.5)\n",
    "    remove_cov = None\n",
    "    only_keep_cov = key\n",
    "    # -17.1\n",
    "    best_epoch, loss_list, val_loss_list = run_train(model, \n",
    "                                                     'mtnn_data/train/feature.npy', \n",
    "                                                     'mtnn_data/train/output.npy', \n",
    "                                                     'mtnn_data/validation/feature.npy', \n",
    "                                                     'mtnn_data/validation/output.npy',\n",
    "                                                     batch_size=256, n_epochs=100, lr=0.03,\n",
    "                                                     weight_decay=1e-4, bias_weight_decay=1e-4, #TRY HIGHER PENALTY\n",
    "                                                     remove_cov=remove_cov, \n",
    "                                                     only_keep_cov=only_keep_cov)"
   ],
   "metadata": {
    "collapsed": false,
    "pycharm": {
     "name": "#%%\n"
    }
   }
  },
  {
   "cell_type": "code",
   "execution_count": null,
   "outputs": [],
   "source": [
    "for i, key in notebook.tqdm(enumerate(cov_idx_dict.keys())):\n",
    "    if key not in ['mouse prior', 'last mouse prior', 'decision strategy (GLM-HMM)']:\n",
    "        continue\n",
    "        \n",
    "    print(f'processing {key}')\n",
    "\n",
    "    # prev: hidden_size = 16, n_layers=2, batch_size=256, random_sliding=1~2*max\n",
    "    model = initialize_mtnn(n_neurons=n_neurons, \n",
    "                            input_size_static=INPUT_SIZE_STATIC, \n",
    "                            input_size_dynamic=INPUT_SIZE_DYNAMIC,\n",
    "                            static_bias=True, dynamic_bias=False, \n",
    "                            hidden_dim_static=HIDDEN_SIZE_STATIC, \n",
    "                            hidden_dim_dynamic=HIDDEN_SIZE_DYNAMIC, n_layers=n_layers, dropout=0.5)\n",
    "    remove_cov = None\n",
    "    only_keep_cov = key\n",
    "    # -17.1\n",
    "    best_epoch, loss_list, val_loss_list = run_train(model, \n",
    "                                                     'mtnn_data/train/feature.npy', \n",
    "                                                     'mtnn_data/train/output.npy', \n",
    "                                                     'mtnn_data/validation/feature.npy', \n",
    "                                                     'mtnn_data/validation/output.npy',\n",
    "                                                     batch_size=256, n_epochs=100, lr=0.03,\n",
    "                                                     weight_decay=1e-4, bias_weight_decay=1e-4, #TRY HIGHER PENALTY\n",
    "                                                     remove_cov=remove_cov, \n",
    "                                                     only_keep_cov=only_keep_cov)"
   ],
   "metadata": {
    "collapsed": false,
    "pycharm": {
     "name": "#%%\n"
    }
   }
  },
  {
   "cell_type": "code",
   "execution_count": null,
   "outputs": [],
   "source": [],
   "metadata": {
    "collapsed": false,
    "pycharm": {
     "name": "#%%\n"
    }
   }
  },
  {
   "cell_type": "code",
   "execution_count": null,
   "outputs": [],
   "source": [],
   "metadata": {
    "collapsed": false,
    "pycharm": {
     "name": "#%%\n"
    }
   }
  },
  {
   "cell_type": "code",
   "execution_count": null,
   "outputs": [],
   "source": [],
   "metadata": {
    "collapsed": false,
    "pycharm": {
     "name": "#%%\n"
    }
   }
  },
  {
   "cell_type": "code",
   "execution_count": null,
   "outputs": [],
   "source": [
    "# # prev: hidden_size = 16, n_layers=2, batch_size=256, random_sliding=1~2*max\n",
    "# model = initialize_mtnn(n_neurons=n_neurons, \n",
    "#                         input_size_static=INPUT_SIZE_STATIC, \n",
    "#                         input_size_dynamic=INPUT_SIZE_DYNAMIC,\n",
    "#                         static_bias=False, dynamic_bias=True, \n",
    "#                         hidden_dim_static=HIDDEN_SIZE_STATIC, \n",
    "#                         hidden_dim_dynamic=HIDDEN_SIZE_DYNAMIC, n_layers=n_layers, dropout=0.1)\n",
    "# remove_cov = None\n",
    "# only_keep_cov = None\n",
    "# best_epoch, loss_list, val_loss_list = run_train(model, \n",
    "#                                                  'mtnn_data/train/feature.npy', \n",
    "#                                                  'mtnn_data/train/output.npy', \n",
    "#                                                  'mtnn_data/validation/feature.npy', \n",
    "#                                                  'mtnn_data/validation/output.npy',\n",
    "#                                                  batch_size=512, n_epochs=100, lr=0.01,\n",
    "#                                                  weight_decay=5e-4, bias_weight_decay=3e0, #TRY HIGHER PENALTY\n",
    "#                                                  remove_cov=remove_cov, \n",
    "#                                                  only_keep_cov=only_keep_cov)"
   ],
   "metadata": {
    "collapsed": false,
    "pycharm": {
     "name": "#%%\n"
    }
   }
  },
  {
   "cell_type": "code",
   "execution_count": null,
   "outputs": [],
   "source": [
    "# prev: hidden_size = 16, n_layers=2, batch_size=256, random_sliding=1~2*max\n",
    "model = initialize_mtnn(n_neurons=n_neurons, \n",
    "                        input_size_static=INPUT_SIZE_STATIC, \n",
    "                        input_size_dynamic=INPUT_SIZE_DYNAMIC,\n",
    "                        static_bias=False, dynamic_bias=True, \n",
    "                        hidden_dim_static=HIDDEN_SIZE_STATIC, \n",
    "                        hidden_dim_dynamic=HIDDEN_SIZE_DYNAMIC, n_layers=n_layers, dropout=0.5)\n",
    "remove_cov = None\n",
    "only_keep_cov = 'noise'\n",
    "# -15.23\n",
    "# best_epoch, loss_list, val_loss_list = run_train(model, \n",
    "#                                                  'mtnn_data/train/feature.npy', \n",
    "#                                                  'mtnn_data/train/output.npy', \n",
    "#                                                  'mtnn_data/validation/feature.npy', \n",
    "#                                                  'mtnn_data/validation/output.npy',\n",
    "#                                                  batch_size=512, n_epochs=100, lr=0.01,\n",
    "#                                                  weight_decay=1e-10, bias_weight_decay=1e-6,\n",
    "#                                                  remove_cov=remove_cov, \n",
    "#                                                  only_keep_cov=only_keep_cov)\n",
    "\n",
    "# best_epoch, loss_list, val_loss_list = run_train(model, \n",
    "#                                                  'mtnn_data/train/feature.npy', \n",
    "#                                                  'mtnn_data/train/output.npy', \n",
    "#                                                  'mtnn_data/validation/feature.npy', \n",
    "#                                                  'mtnn_data/validation/output.npy',\n",
    "#                                                  batch_size=512, n_epochs=100, lr=0.01,\n",
    "#                                                  weight_decay=1e-4, bias_weight_decay=1e0, #TRY HIGHER PENALTY\n",
    "#                                                  remove_cov=remove_cov, \n",
    "#                                                  only_keep_cov=only_keep_cov)\n",
    "\n",
    "# best_epoch, loss_list, val_loss_list = run_train(model, \n",
    "#                                                  'mtnn_data/train/feature.npy', \n",
    "#                                                  'mtnn_data/train/output.npy', \n",
    "#                                                  'mtnn_data/validation/feature.npy', \n",
    "#                                                  'mtnn_data/validation/output.npy',\n",
    "#                                                  batch_size=512, n_epochs=100, lr=0.01,\n",
    "#                                                  weight_decay=1e-5, bias_weight_decay=1e-5, #TRY HIGHER PENALTY\n",
    "#                                                  remove_cov=remove_cov, \n",
    "#                                                  only_keep_cov=only_keep_cov)\n",
    "\n",
    "best_epoch, loss_list, val_loss_list = run_train(model, \n",
    "                                                 'mtnn_data/train/feature.npy', \n",
    "                                                 'mtnn_data/train/output.npy', \n",
    "                                                 'mtnn_data/validation/feature.npy', \n",
    "                                                 'mtnn_data/validation/output.npy',\n",
    "                                                 batch_size=256, n_epochs=100, lr=0.03,\n",
    "                                                 weight_decay=1e-4, bias_weight_decay=1e-4, #TRY HIGHER PENALTY\n",
    "                                                 remove_cov=remove_cov, \n",
    "                                                 only_keep_cov=only_keep_cov)"
   ],
   "metadata": {
    "collapsed": false,
    "pycharm": {
     "name": "#%%\n"
    }
   }
  },
  {
   "cell_type": "code",
   "execution_count": null,
   "outputs": [],
   "source": [],
   "metadata": {
    "collapsed": false,
    "pycharm": {
     "name": "#%%\n"
    }
   }
  },
  {
   "cell_type": "code",
   "execution_count": null,
   "outputs": [],
   "source": [],
   "metadata": {
    "collapsed": false,
    "pycharm": {
     "name": "#%%\n"
    }
   }
  },
  {
   "cell_type": "code",
   "execution_count": null,
   "outputs": [],
   "source": [
    "# prev: hidden_size = 16, n_layers=2, batch_size=256, random_sliding=1~2*max\n",
    "model = initialize_mtnn(n_neurons=n_neurons, \n",
    "                        input_size_static=INPUT_SIZE_STATIC, \n",
    "                        input_size_dynamic=INPUT_SIZE_DYNAMIC,\n",
    "                        static_bias=False, dynamic_bias=True, \n",
    "                        hidden_dim_static=HIDDEN_SIZE_STATIC, \n",
    "                        hidden_dim_dynamic=HIDDEN_SIZE_DYNAMIC, n_layers=n_layers, dropout=0.5)\n",
    "remove_cov = ['all']\n",
    "only_keep_cov = None\n",
    "# -15.5\n",
    "best_epoch, loss_list, val_loss_list = run_train(model, \n",
    "                                                 'mtnn_data/train/feature.npy', \n",
    "                                                 'mtnn_data/train/output.npy', \n",
    "                                                 'mtnn_data/validation/feature.npy', \n",
    "                                                 'mtnn_data/validation/output.npy',\n",
    "                                                 batch_size=256, n_epochs=100, lr=0.03,\n",
    "                                                 weight_decay=1e-4, bias_weight_decay=1e-4,\n",
    "                                                 remove_cov=remove_cov, \n",
    "                                                 only_keep_cov=only_keep_cov,\n",
    "                                                 model_name_suffix='dynamic_bias')"
   ],
   "metadata": {
    "collapsed": false,
    "pycharm": {
     "name": "#%%\n"
    }
   }
  },
  {
   "cell_type": "code",
   "execution_count": null,
   "outputs": [],
   "source": [
    "# prev: hidden_size = 16, n_layers=2, batch_size=256, random_sliding=1~2*max\n",
    "model = initialize_mtnn(n_neurons=n_neurons, \n",
    "                        input_size_static=INPUT_SIZE_STATIC, \n",
    "                        input_size_dynamic=INPUT_SIZE_DYNAMIC,\n",
    "                        static_bias=True, dynamic_bias=False, \n",
    "                        hidden_dim_static=HIDDEN_SIZE_STATIC, \n",
    "                        hidden_dim_dynamic=HIDDEN_SIZE_DYNAMIC, n_layers=n_layers, dropout=0.2)\n",
    "remove_cov = ['all']\n",
    "only_keep_cov = None\n",
    "# -17.7~-17.8\n",
    "best_epoch, loss_list, val_loss_list = run_train(model, \n",
    "                                                 'mtnn_data/train/feature.npy', \n",
    "                                                 'mtnn_data/train/output.npy', \n",
    "                                                 'mtnn_data/validation/feature.npy', \n",
    "                                                 'mtnn_data/validation/output.npy',\n",
    "                                                 batch_size=1024, n_epochs=150, lr=0.01,\n",
    "                                                 weight_decay=1e-8,\n",
    "                                                 remove_cov=remove_cov, \n",
    "                                                 only_keep_cov=only_keep_cov,\n",
    "                                                 model_name_suffix='static_bias')"
   ],
   "metadata": {
    "collapsed": false,
    "pycharm": {
     "name": "#%%\n"
    }
   }
  },
  {
   "cell_type": "code",
   "execution_count": null,
   "outputs": [],
   "source": [],
   "metadata": {
    "collapsed": false,
    "pycharm": {
     "name": "#%%\n"
    }
   }
  },
  {
   "cell_type": "code",
   "execution_count": null,
   "outputs": [],
   "source": [],
   "metadata": {
    "collapsed": false,
    "pycharm": {
     "name": "#%%\n"
    }
   }
  },
  {
   "cell_type": "code",
   "execution_count": null,
   "outputs": [],
   "source": [
    "plt.figure(figsize=(10,8))\n",
    "plt.plot(np.append(np.arange(1,50,5), 50), val_loss_list, lw=4, color='r', label='validation loss')\n",
    "plt.plot(np.append(np.arange(1,50,5), 50), loss_list, lw=2, color='k', label='train loss')\n",
    "plt.xlabel('epochs', fontsize=20)\n",
    "plt.ylabel('Poisson negative log-likelihood', fontsize=20)\n",
    "plt.legend(fontsize=20)\n",
    "# plt.savefig('plots/loss.png', bbox_inches='tight', facecolor='white')\n",
    "plt.show()"
   ],
   "metadata": {
    "collapsed": false,
    "pycharm": {
     "name": "#%%\n"
    }
   }
  },
  {
   "cell_type": "code",
   "execution_count": null,
   "outputs": [],
   "source": [],
   "metadata": {
    "collapsed": false,
    "pycharm": {
     "name": "#%%\n"
    }
   }
  },
  {
   "cell_type": "code",
   "execution_count": null,
   "outputs": [],
   "source": [],
   "metadata": {
    "collapsed": false,
    "pycharm": {
     "name": "#%%\n"
    }
   }
  },
  {
   "cell_type": "code",
   "execution_count": null,
   "outputs": [],
   "source": [
    "model = initialize_mtnn(n_neurons=n_neurons, \n",
    "                        input_size_static=INPUT_SIZE_STATIC, \n",
    "                        input_size_dynamic=INPUT_SIZE_DYNAMIC,\n",
    "                        static_bias=False, dynamic_bias=True, \n",
    "                        hidden_dim_static=HIDDEN_SIZE_STATIC, \n",
    "                        hidden_dim_dynamic=HIDDEN_SIZE_DYNAMIC, n_layers=n_layers, dropout=0.2)"
   ],
   "metadata": {
    "collapsed": false,
    "pycharm": {
     "name": "#%%\n"
    }
   }
  },
  {
   "cell_type": "code",
   "execution_count": null,
   "outputs": [],
   "source": [
    "remove_cov = None #['all']\n",
    "only_keep_cov = 'noise'"
   ],
   "metadata": {
    "collapsed": false,
    "pycharm": {
     "name": "#%%\n"
    }
   }
  },
  {
   "cell_type": "code",
   "execution_count": null,
   "outputs": [],
   "source": [
    "print('loading... '+f'trained_models/state_dict_rem={remove_cov}_keep={only_keep_cov}.pt')\n",
    "model.load_state_dict(torch.load(f'trained_models/state_dict_rem={remove_cov}_keep={only_keep_cov}.pt'))\n",
    "\n",
    "# print('loading... '+f'trained_models/state_dict_rem={remove_cov}_keep={only_keep_cov}.pt')\n",
    "# model.load_state_dict(torch.load(f'trained_models/state_dict_rem={remove_cov}_keep={only_keep_cov}_dynamic_bias.pt'))"
   ],
   "metadata": {
    "collapsed": false,
    "pycharm": {
     "name": "#%%\n"
    }
   }
  },
  {
   "cell_type": "code",
   "execution_count": null,
   "outputs": [],
   "source": [],
   "metadata": {
    "collapsed": false,
    "pycharm": {
     "name": "#%%\n"
    }
   }
  },
  {
   "cell_type": "code",
   "execution_count": null,
   "outputs": [],
   "source": [
    "data_dir = 'test'\n",
    "preds, loss = run_eval(model,f'mtnn_data/{data_dir}/feature.npy',\n",
    "                            f'mtnn_data/{data_dir}/output.npy', \n",
    "                            remove_cov=remove_cov, only_keep_cov=only_keep_cov)\n",
    "print(f'{data_dir} loss: {loss}')"
   ],
   "metadata": {
    "collapsed": false,
    "pycharm": {
     "name": "#%%\n"
    }
   }
  },
  {
   "cell_type": "code",
   "execution_count": null,
   "outputs": [],
   "source": [
    "preds_shape = np.load(f'mtnn_data/{data_dir}/shape.npy')\n",
    "obs = np.load(f'mtnn_data/{data_dir}/output.npy')\n",
    "test_feature = np.load(f'mtnn_data/{data_dir}/feature.npy')\n",
    "neu_list = np.load('mtnn_data/clusters.npy', allow_pickle=True)\n",
    "sess_list = np.load('mtnn_data/session_info.npy', allow_pickle=True).tolist()"
   ],
   "metadata": {
    "collapsed": false,
    "pycharm": {
     "name": "#%%\n"
    }
   }
  },
  {
   "cell_type": "code",
   "execution_count": null,
   "outputs": [],
   "source": [
    "pred_list = []\n",
    "obs_list = []\n",
    "feature_list = []\n",
    "idx = 0\n",
    "for sh in preds_shape:\n",
    "    n = sh[0]*sh[1]\n",
    "    pred_list.append(preds[idx:idx+n].reshape(sh[:-1]))\n",
    "    obs_list.append(obs[idx:idx+n].reshape(sh[:-1]))\n",
    "    feature_list.append(test_feature[idx:idx+n].reshape(sh))\n",
    "    idx += n"
   ],
   "metadata": {
    "collapsed": false,
    "pycharm": {
     "name": "#%%\n"
    }
   }
  },
  {
   "cell_type": "code",
   "execution_count": null,
   "outputs": [],
   "source": [
    "# sess = 1\n",
    "# for i in range(10):\n",
    "#     plt.figure(figsize=(10,4))\n",
    "#     plt.plot(obs_list[sess][i].mean(0), color='k')\n",
    "#     plt.plot(pred_list[sess][i].mean(0), color='r')\n",
    "#     plt.show()\n",
    "    \n",
    "#     plt.figure()\n",
    "#     plt.imshow(obs_list[sess][i], aspect='auto')\n",
    "#     plt.show()\n",
    "#     plt.figure()\n",
    "#     plt.imshow(pred_list[sess][i], aspect='auto')\n",
    "#     plt.show()\n",
    "#     print('-----------------------------------------')"
   ],
   "metadata": {
    "collapsed": false,
    "pycharm": {
     "name": "#%%\n"
    }
   }
  },
  {
   "cell_type": "code",
   "execution_count": null,
   "outputs": [],
   "source": [
    "# generate_figure_9(feature_list, pred_list, obs_list, \n",
    "#                 neu_list, sess_list, trial_list, which_sess=[0], savefig=False)"
   ],
   "metadata": {
    "collapsed": false,
    "pycharm": {
     "name": "#%%\n"
    }
   }
  },
  {
   "cell_type": "code",
   "execution_count": null,
   "outputs": [],
   "source": [],
   "metadata": {
    "collapsed": false,
    "pycharm": {
     "name": "#%%\n"
    }
   }
  },
  {
   "cell_type": "code",
   "execution_count": null,
   "outputs": [],
   "source": [
    "from figure10 import compute_scores_for_figure_10, load_test_model"
   ],
   "metadata": {
    "collapsed": false,
    "pycharm": {
     "name": "#%%\n"
    }
   }
  },
  {
   "cell_type": "code",
   "execution_count": null,
   "outputs": [],
   "source": [
    "model_config = {'n_neurons': n_neurons,\n",
    "                'input_size_static': INPUT_SIZE_STATIC,\n",
    "                'input_size_dynamic': INPUT_SIZE_DYNAMIC,\n",
    "                'hidden_size_static': HIDDEN_SIZE_STATIC,\n",
    "                'hidden_size_dynamic': HIDDEN_SIZE_DYNAMIC,\n",
    "                'static_bias': False,\n",
    "                'dynamic_bias': True,\n",
    "                'n_layers': n_layers}"
   ],
   "metadata": {
    "collapsed": false,
    "pycharm": {
     "name": "#%%\n"
    }
   }
  },
  {
   "cell_type": "code",
   "execution_count": null,
   "outputs": [],
   "source": [
    "data_dir = 'test'\n",
    "preds_shape = np.load(f'mtnn_data/{data_dir}/shape.npy')\n",
    "obs = np.load(f'mtnn_data/{data_dir}/output.npy')\n",
    "test_feature = np.load(f'mtnn_data/{data_dir}/feature.npy')\n",
    "trial_list = np.load(f'mtnn_data/{data_dir}/trials.npy', allow_pickle=True)\n",
    "\n",
    "obs_list = []\n",
    "feature_list = []\n",
    "idx = 0\n",
    "for sh in preds_shape:\n",
    "    n = sh[0]*sh[1]\n",
    "    obs_list.append(obs[idx:idx+n].reshape(sh[:-1]))\n",
    "    feature_list.append(test_feature[idx:idx+n].reshape(sh))\n",
    "    idx += n\n",
    "baseline_score = load_test_model(model_config, None, 'noise', \n",
    "                                 obs_list, preds_shape, use_psth=False, \n",
    "                                 data_dir=data_dir, model_name_suffix=None)\n",
    "# baseline_score2 = load_test_model(model_config, ['all'], None, \n",
    "#                                  obs_list, preds_shape, use_psth=False, \n",
    "#                                  data_dir=data_dir, model_name_suffix='dynamic_bias')"
   ],
   "metadata": {
    "collapsed": false,
    "pycharm": {
     "name": "#%%\n"
    }
   }
  },
  {
   "cell_type": "code",
   "execution_count": null,
   "outputs": [],
   "source": [
    "plt.figure(figsize=(6,12))\n",
    "plt.scatter(np.ones_like(baseline_score)+np.random.normal(size=baseline_score.shape[0])/10, \n",
    "            baseline_score, color='k', alpha=0.2)\n",
    "# plt.ylim(-0.6,0.45)\n",
    "plt.xlim(0,2)\n",
    "plt.axhline(np.median(baseline_score), color='r')"
   ],
   "metadata": {
    "collapsed": false,
    "pycharm": {
     "name": "#%%\n"
    }
   }
  },
  {
   "cell_type": "code",
   "execution_count": null,
   "outputs": [],
   "source": [
    "plt.figure(figsize=(6,12))\n",
    "plt.scatter(np.ones_like(baseline_score)+np.random.normal(size=baseline_score.shape[0])/10, \n",
    "            baseline_score, color='k', alpha=0.2)\n",
    "plt.ylim(-0.5,0.5)\n",
    "plt.xlim(0,2)\n",
    "plt.axhline(np.median(baseline_score), color='r')"
   ],
   "metadata": {
    "collapsed": false,
    "pycharm": {
     "name": "#%%\n"
    }
   }
  },
  {
   "cell_type": "code",
   "execution_count": null,
   "outputs": [],
   "source": [
    "glm_scores = np.load('glm_scores.npy')"
   ],
   "metadata": {
    "collapsed": false,
    "pycharm": {
     "name": "#%%\n"
    }
   }
  },
  {
   "cell_type": "code",
   "execution_count": null,
   "outputs": [],
   "source": [
    "plt.figure(figsize=(7,7))\n",
    "plt.scatter(baseline_score, glm_scores, color='k', alpha=0.4)\n",
    "plt.plot([-1,1],[-1,1], color='k')\n",
    "plt.xlim(-0.05,0.52)\n",
    "plt.ylim(-0.05,0.52)\n",
    "plt.ylabel('GLM R2')\n",
    "plt.xlabel('MTNN R2')"
   ],
   "metadata": {
    "collapsed": false,
    "pycharm": {
     "name": "#%%\n"
    }
   }
  },
  {
   "cell_type": "code",
   "execution_count": null,
   "outputs": [],
   "source": [],
   "metadata": {
    "collapsed": false,
    "pycharm": {
     "name": "#%%\n"
    }
   }
  },
  {
   "cell_type": "code",
   "execution_count": null,
   "outputs": [],
   "source": [
    "(baseline_score > 0.1).sum()"
   ],
   "metadata": {
    "collapsed": false,
    "pycharm": {
     "name": "#%%\n"
    }
   }
  },
  {
   "cell_type": "code",
   "execution_count": null,
   "outputs": [],
   "source": [
    "reshaped_score = reshape_flattened(baseline_score, preds_shape, trim=3)"
   ],
   "metadata": {
    "collapsed": false,
    "pycharm": {
     "name": "#%%\n"
    }
   }
  },
  {
   "cell_type": "code",
   "execution_count": null,
   "outputs": [],
   "source": [
    "for i, reshaped in enumerate(reshaped_score):\n",
    "    print(i)\n",
    "    idx = reshaped > 0.1\n",
    "    generate_figure_9(feature_list, pred_list, obs_list, \n",
    "                    neu_list, sess_list, trial_list, which_sess=[i], \n",
    "                      savefig=False, plot_subsample_ratio=1.0, plot_neurons = idx, subdir='good')\n"
   ],
   "metadata": {
    "collapsed": false,
    "pycharm": {
     "name": "#%%\n"
    }
   }
  },
  {
   "cell_type": "code",
   "execution_count": null,
   "outputs": [],
   "source": [
    "# for i, reshaped in enumerate(reshaped_score):\n",
    "#     print(i)\n",
    "#     idx = reshaped > 0.3\n",
    "#     generate_figure_9(feature_list, pred_list, obs_list, \n",
    "#                     neu_list, sess_list, trial_list, which_sess=[i], \n",
    "#                       savefig=False, plot_subsample_ratio=1.0, plot_neurons = idx, subdir='good')\n"
   ],
   "metadata": {
    "collapsed": false,
    "pycharm": {
     "name": "#%%\n"
    }
   }
  },
  {
   "cell_type": "code",
   "execution_count": null,
   "outputs": [],
   "source": [],
   "metadata": {
    "collapsed": false,
    "pycharm": {
     "name": "#%%\n"
    }
   }
  },
  {
   "cell_type": "code",
   "execution_count": null,
   "outputs": [],
   "source": [],
   "metadata": {
    "collapsed": false,
    "pycharm": {
     "name": "#%%\n"
    }
   }
  },
  {
   "cell_type": "code",
   "execution_count": null,
   "outputs": [],
   "source": [],
   "metadata": {
    "collapsed": false,
    "pycharm": {
     "name": "#%%\n"
    }
   }
  },
  {
   "cell_type": "code",
   "execution_count": null,
   "outputs": [],
   "source": [],
   "metadata": {
    "collapsed": false,
    "pycharm": {
     "name": "#%%\n"
    }
   }
  },
  {
   "cell_type": "code",
   "execution_count": null,
   "outputs": [],
   "source": [
    "generate_figure9_supplement1(model_config, savefig=True)"
   ],
   "metadata": {
    "collapsed": false,
    "pycharm": {
     "name": "#%%\n"
    }
   }
  },
  {
   "cell_type": "code",
   "execution_count": null,
   "outputs": [],
   "source": [
    "generate_figure9_supplement3(model_config, savefig=True)"
   ],
   "metadata": {
    "collapsed": false,
    "pycharm": {
     "name": "#%%\n"
    }
   }
  },
  {
   "cell_type": "code",
   "execution_count": null,
   "outputs": [],
   "source": [],
   "metadata": {
    "collapsed": false,
    "pycharm": {
     "name": "#%%\n"
    }
   }
  },
  {
   "cell_type": "code",
   "execution_count": null,
   "outputs": [],
   "source": [],
   "metadata": {
    "collapsed": false,
    "pycharm": {
     "name": "#%%\n"
    }
   }
  }
 ],
 "metadata": {
  "kernelspec": {
   "display_name": "iblenv-updated",
   "language": "python",
   "name": "iblenv-updated"
  },
  "language_info": {
   "codemirror_mode": {
    "name": "ipython",
    "version": 3
   },
   "file_extension": ".py",
   "mimetype": "text/x-python",
   "name": "python",
   "nbconvert_exporter": "python",
   "pygments_lexer": "ipython3",
   "version": "3.9.7"
  }
 },
 "nbformat": 4,
 "nbformat_minor": 4
}