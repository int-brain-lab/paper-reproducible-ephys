{
 "cells": [
  {
   "cell_type": "code",
   "execution_count": null,
   "metadata": {
    "pycharm": {
     "name": "#%%\n"
    }
   },
   "outputs": [],
   "source": [
    "from utils import *\n",
    "from mtnn import *\n",
    "from figure9 import *\n",
    "import torch\n",
    "import matplotlib.pyplot as plt\n",
    "from reproducible_ephys_functions import save_data_path\n",
    "\n",
    "data_load_path = save_data_path(figure='figure8').joinpath('mtnn_data')"
   ]
  },
  {
   "cell_type": "code",
   "execution_count": null,
   "metadata": {
    "pycharm": {
     "name": "#%%\n"
    }
   },
   "outputs": [],
   "source": [
    "feature = np.load(data_load_path.joinpath('train/feature.npy'))\n",
    "\n",
    "neuron_order = feature[:,0,0]\n",
    "feature = feature[:,:,1:]\n",
    "\n",
    "neurons = np.unique(neuron_order)\n",
    "n_neurons = neurons.shape[0]\n",
    "print('number of neurons: {}'.format(n_neurons))\n",
    "\n",
    "INPUT_SIZE_DYNAMIC = feature.shape[-1]-static_idx.shape[0]\n",
    "INPUT_SIZE_STATIC = static_idx.shape[0]\n",
    "print(INPUT_SIZE_STATIC, INPUT_SIZE_DYNAMIC)\n",
    "\n",
    "HIDDEN_SIZE_STATIC = 64\n",
    "HIDDEN_SIZE_DYNAMIC = 64\n",
    "n_layers = 2"
   ]
  },
  {
   "cell_type": "code",
   "execution_count": null,
   "metadata": {
    "pycharm": {
     "name": "#%%\n"
    }
   },
   "outputs": [],
   "source": [
    "remove_cov = None\n",
    "only_keep_cov = None\n",
    "\n",
    "model = initialize_mtnn(n_neurons=n_neurons, \n",
    "                        input_size_static=INPUT_SIZE_STATIC, \n",
    "                        input_size_dynamic=INPUT_SIZE_DYNAMIC,\n",
    "                        static_bias=True, dynamic_bias=True, \n",
    "                        hidden_dim_static=HIDDEN_SIZE_STATIC, \n",
    "                        hidden_dim_dynamic=HIDDEN_SIZE_DYNAMIC, n_layers=n_layers, \n",
    "                        dropout=0.2)\n",
    "\n",
    "best_epoch, loss_list, val_loss_list = run_train(model, \n",
    "                                                 data_load_path.joinpath('train/feature.npy'), \n",
    "                                                 data_load_path.joinpath('train/output.npy'), \n",
    "                                                 data_load_path.joinpath('validation/feature.npy'), \n",
    "                                                 data_load_path.joinpath('validation/output.npy'),\n",
    "                                                 batch_size=512, n_epochs=100, lr=0.1,\n",
    "                                                 weight_decay=1e-5,\n",
    "                                                 remove_cov=remove_cov, \n",
    "                                                 only_keep_cov=only_keep_cov)"
   ]
  },
  {
   "cell_type": "code",
   "execution_count": null,
   "metadata": {},
   "outputs": [],
   "source": []
  },
  {
   "cell_type": "code",
   "execution_count": null,
   "metadata": {
    "pycharm": {
     "name": "#%%\n"
    }
   },
   "outputs": [],
   "source": [
    "model_load_path = save_data_path(figure='figure9').joinpath(f'trained_models/state_dict_rem={remove_cov}_keep={only_keep_cov}.pt')\n",
    "\n",
    "print('loading... '+model_load_path)\n",
    "model.load_state_dict(torch.load(model_load_path))"
   ]
  },
  {
   "cell_type": "code",
   "execution_count": null,
   "metadata": {
    "pycharm": {
     "name": "#%%\n"
    }
   },
   "outputs": [],
   "source": [
    "preds, loss = run_eval(model,data_load_path.joinpath('test/feature.npy'), \n",
    "                            data_load_path.joinpath('test/output.npy'), \n",
    "                            remove_cov=remove_cov, only_keep_cov=only_keep_cov)\n",
    "print(f'{data_dir} loss: {loss}')"
   ]
  },
  {
   "cell_type": "code",
   "execution_count": null,
   "metadata": {
    "pycharm": {
     "name": "#%%\n"
    }
   },
   "outputs": [],
   "source": [
    "preds_shape = np.load(data_load_path.joinpath('test/shape.npy'))\n",
    "obs = np.load(data_load_path.joinpath('test/output.npy'))\n",
    "test_feature = np.load(data_load_path.joinpath('test/feature.npy'))\n",
    "neu_list = np.load(data_load_path.joinpath('clusters.npy'), allow_pickle=True)\n",
    "sess_list = np.load(data_load_path.joinpath('session_info.npy'), allow_pickle=True).tolist()"
   ]
  },
  {
   "cell_type": "code",
   "execution_count": null,
   "metadata": {
    "pycharm": {
     "name": "#%%\n"
    }
   },
   "outputs": [],
   "source": [
    "pred_list = []\n",
    "obs_list = []\n",
    "feature_list = []\n",
    "idx = 0\n",
    "for sh in preds_shape:\n",
    "    n = sh[0]*sh[1]\n",
    "    pred_list.append(preds[idx:idx+n].reshape(sh[:-1]))\n",
    "    obs_list.append(obs[idx:idx+n].reshape(sh[:-1]))\n",
    "    feature_list.append(test_feature[idx:idx+n].reshape(sh))\n",
    "    idx += n"
   ]
  },
  {
   "cell_type": "code",
   "execution_count": null,
   "metadata": {
    "pycharm": {
     "name": "#%%\n"
    }
   },
   "outputs": [],
   "source": [
    "for i, reshaped in enumerate(reshaped_score):\n",
    "    generate_figure_9(feature_list, pred_list, obs_list, \n",
    "                      neu_list, sess_list, trial_list, which_sess=[i], \n",
    "                      savefig=True, plot_subsample_ratio=1.0)"
   ]
  },
  {
   "cell_type": "code",
   "execution_count": null,
   "metadata": {
    "pycharm": {
     "name": "#%%\n"
    }
   },
   "outputs": [],
   "source": []
  },
  {
   "cell_type": "code",
   "execution_count": null,
   "metadata": {},
   "outputs": [],
   "source": [
    "model_config = {'n_neurons': n_neurons,\n",
    "                'input_size_static': INPUT_SIZE_STATIC,\n",
    "                'input_size_dynamic': INPUT_SIZE_DYNAMIC,\n",
    "                'hidden_size_static': HIDDEN_SIZE_STATIC,\n",
    "                'hidden_size_dynamic': HIDDEN_SIZE_DYNAMIC,\n",
    "                'static_bias': True,\n",
    "                'dynamic_bias': True,\n",
    "                'n_layers': n_layers}"
   ]
  },
  {
   "cell_type": "code",
   "execution_count": null,
   "metadata": {
    "pycharm": {
     "name": "#%%\n"
    }
   },
   "outputs": [],
   "source": [
    "generate_figure9_supplement1(model_config, \n",
    "                             preds_shape,\n",
    "                             obs,\n",
    "                             test_feature,\n",
    "                             sess_list,\n",
    "                             savefig=True)"
   ]
  },
  {
   "cell_type": "code",
   "execution_count": null,
   "metadata": {
    "pycharm": {
     "name": "#%%\n"
    }
   },
   "outputs": [],
   "source": [
    "generate_figure9_supplement3(model_config, \n",
    "                             preds_shape,\n",
    "                             obs,\n",
    "                             test_feature,\n",
    "                             sess_list,\n",
    "                             preds,\n",
    "                             savefig=True)"
   ]
  },
  {
   "cell_type": "code",
   "execution_count": null,
   "metadata": {
    "pycharm": {
     "name": "#%%\n"
    }
   },
   "outputs": [],
   "source": []
  }
 ],
 "metadata": {
  "kernelspec": {
   "display_name": "iblenv-updated",
   "language": "python",
   "name": "iblenv-updated"
  },
  "language_info": {
   "codemirror_mode": {
    "name": "ipython",
    "version": 3
   },
   "file_extension": ".py",
   "mimetype": "text/x-python",
   "name": "python",
   "nbconvert_exporter": "python",
   "pygments_lexer": "ipython3",
   "version": "3.9.7"
  }
 },
 "nbformat": 4,
 "nbformat_minor": 4
}
